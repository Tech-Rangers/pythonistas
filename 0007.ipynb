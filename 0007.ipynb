{
 "cells": [
  {
   "cell_type": "markdown",
   "metadata": {},
   "source": [
    "## Aula 0007\n",
    "\n",
    "- listas de dicionários e dicionário de listas ┻━┻︵ \\(°□°)/ ︵ ┻━┻"
   ]
  }
 ],
 "metadata": {
  "language_info": {
   "name": "python"
  }
 },
 "nbformat": 4,
 "nbformat_minor": 2
}
