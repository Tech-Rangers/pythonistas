{
 "cells": [
  {
   "cell_type": "markdown",
   "metadata": {},
   "source": [
    "## Lesson 0002\n",
    "\n",
    " - recap list and for loops\n",
    " - formatted print\n",
    " - if statement\n",
    " - challenge"
   ]
  },
  {
   "cell_type": "code",
   "execution_count": 30,
   "metadata": {},
   "outputs": [
    {
     "name": "stdout",
     "output_type": "stream",
     "text": [
      "5\n",
      "---\n",
      "8\n",
      "---\n",
      "9\n",
      "---\n",
      "7\n",
      "---\n",
      "3\n",
      "---\n",
      "AAAAA\n"
     ]
    }
   ],
   "source": [
    "# practice blank space \n",
    "notas = [5, 8, 9, 7, 3]\n",
    "for nota in notas:\n",
    "    print(nota)\n",
    "    print(\"---\")\n",
    "print(\"AAAAA\")\n",
    "\n"
   ]
  },
  {
   "cell_type": "code",
   "execution_count": 51,
   "metadata": {},
   "outputs": [
    {
     "name": "stdout",
     "output_type": "stream",
     "text": [
      "5\n",
      "13\n",
      "22\n",
      "29\n",
      "32\n"
     ]
    }
   ],
   "source": [
    "soma = 0 \n",
    "for n in notas:\n",
    "    soma = soma + n\n",
    "    print(soma)\n",
    "media =soma/5"
   ]
  },
  {
   "cell_type": "code",
   "execution_count": 52,
   "metadata": {},
   "outputs": [],
   "source": [
    "# exemplo portão automático\n",
    "\n",
    "sensor = 1\n",
    "\n",
    "if sensor == 0:\n",
    "    pass\n",
    "    # motor continua a abertura do portão\n",
    "else:\n",
    "    # para o motor\n",
    "    pass"
   ]
  },
  {
   "cell_type": "code",
   "execution_count": 130,
   "metadata": {},
   "outputs": [
    {
     "name": "stdout",
     "output_type": "stream",
     "text": [
      "Congratulations, you passed!\n"
     ]
    }
   ],
   "source": [
    "# aluno passou na prova?\n",
    "\n",
    "aluno = \"aluno\"\n",
    "\n",
    "if media >= 5:\n",
    "    if aluno == \"Carlos\":\n",
    "        print(\"I love you man\")\n",
    "    else:\n",
    "        print('Congratulations, you passed!')\n",
    "else:\n",
    "    if aluno == \"Carlos\":\n",
    "        print(\"shame on you!\")\n",
    "    else:\n",
    "        print(\"Vagabundo vai estudar\")"
   ]
  },
  {
   "cell_type": "code",
   "execution_count": 76,
   "metadata": {},
   "outputs": [
    {
     "name": "stdout",
     "output_type": "stream",
     "text": [
      "A média do Carlos é 6.4.\n"
     ]
    }
   ],
   "source": [
    "# print formatado\n",
    "\n",
    "print(f\"A média do {aluno } é {media}.\")"
   ]
  },
  {
   "cell_type": "code",
   "execution_count": 97,
   "metadata": {},
   "outputs": [
    {
     "name": "stdout",
     "output_type": "stream",
     "text": [
      "print nota in notas\n",
      "5\n",
      "8\n",
      "9\n",
      "7\n",
      "3\n",
      "==========\n",
      "print using index and for loop\n",
      "5\n",
      "8\n",
      "9\n",
      "7\n",
      "3\n",
      "=========\n",
      "print using index\n",
      "5\n",
      "8\n",
      "9\n",
      "7\n",
      "3\n"
     ]
    }
   ],
   "source": [
    "# for indexes\n",
    "\n",
    "\n",
    "print('print nota in notas')\n",
    "for nota in notas:\n",
    "    print(nota)\n",
    "\n",
    "print(f'==========')\n",
    "\n",
    "print('print using index and for loop' )\n",
    "for index in range(0,5):\n",
    "    print(notas[index])\n",
    "\n",
    "\n",
    "print('=========')\n",
    "print('print using index')\n",
    "print(notas[0])\n",
    "print(notas[1])\n",
    "print(notas[2])\n",
    "print(notas[3])\n",
    "print(notas[4])"
   ]
  },
  {
   "cell_type": "code",
   "execution_count": 91,
   "metadata": {},
   "outputs": [
    {
     "name": "stdout",
     "output_type": "stream",
     "text": [
      "Carlos tirou 5\n",
      "Juliana tirou 8\n",
      "Leticia tirou 9\n",
      "Marcela tirou 7\n",
      "Gabriel tirou 3\n"
     ]
    }
   ],
   "source": [
    "alunos = [\"Carlos\", \"Juliana\", \"Leticia\", \"Marcela\", \"Gabriel\"]\n",
    "\n",
    "for index in range(0,5):\n",
    "    print(f\"{alunos[index]} tirou {notas[index]}\")"
   ]
  },
  {
   "cell_type": "markdown",
   "metadata": {},
   "source": [
    "### Challenge\n",
    "\n",
    "As a teacher, you are responsible for 40 students. The students have just taken a test and now you have their 40 grades \n",
    "You want to display a table with the students **name**, **grade** and **status**, where status indicates if the students has passed the test or not.\n",
    "\n",
    "Use the knowledge of for loops, formatted print and if statements to build this table that will be displayed in the python notebook output\n",
    "\n",
    "Follow this requirements:\n",
    " - the table must have a header with the three column\n",
    " - each row corresponds to a student\n",
    " - grades are float number from 0 to 10, with one decimal precision\n",
    " - the test passing grade is 5\n",
    " - the `students` and `grades` are already sorted such as *the **students[i]** has **grades[i]***\n",
    "\n",
    "Bonus:\n",
    " - add a final row with the entire class **average grade**\n",
    " - adjust column padding so all column are printed with the same width\n",
    "\n",
    "\n",
    "#### Formatted print padding tip\n",
    " - `i:<10` => justify text to the left within 10 characters width\n",
    " - `i:>10` => justify text to the right within 10 characters width\n",
    " - `i:^10` => justify text to the center within 10 characters width"
   ]
  },
  {
   "cell_type": "code",
   "execution_count": 124,
   "metadata": {},
   "outputs": [],
   "source": [
    "# run once to setup the challenge\n",
    "\n",
    "import random\n",
    "\n",
    "students = [\"Alice\", \"Bob\", \"Charlie\", \"David\", \"Eve\", \"Frank\", \"Grace\", \"Henry\", \"Isabel\", \"Jack\",\n",
    "            \"Katie\", \"Liam\", \"Mia\", \"Noah\", \"Olivia\", \"Patrick\", \"Quinn\", \"Rachel\", \"Sam\", \"Tina\",\n",
    "            \"Ursula\", \"Victor\", \"Wendy\", \"Xander\", \"Yvonne\", \"Zack\", \"Amelia\", \"Ben\", \"Catherine\", \"Daniel\",\n",
    "            \"Emma\", \"Finn\", \"Gabriella\", \"Hannah\", \"Ian\", \"Jessica\", \"Kevin\", \"Lily\", \"Michael\", \"Nora\"]\n",
    "\n",
    "grades = [round(random.uniform(0, 10), 1) for _ in range(40)]"
   ]
  },
  {
   "cell_type": "code",
   "execution_count": 180,
   "metadata": {},
   "outputs": [
    {
     "ename": "IndentationError",
     "evalue": "unindent does not match any outer indentation level (<string>, line 6)",
     "output_type": "error",
     "traceback": [
      "\u001b[0;36m  File \u001b[0;32m<string>:6\u001b[0;36m\u001b[0m\n\u001b[0;31m    else:\u001b[0m\n\u001b[0m         ^\u001b[0m\n\u001b[0;31mIndentationError\u001b[0m\u001b[0;31m:\u001b[0m unindent does not match any outer indentation level\n"
     ]
    }
   ],
   "source": [
    "# write the answer bellow\n",
    "print (f\"Students ---- Grade ---- Status\")\n",
    "for index in range(0,40):\n",
    "if grades[index]>= 5:\n",
    "        status = 'Congratulations, you passed!'\n",
    "    else:\n",
    "        status = \"Vagabundo vai estudar\"\n",
    "         print(f\"{students[index]} tirou {grades[index]} foi {status[index]} \")\n",
    "\n",
    "        "
   ]
  },
  {
   "cell_type": "code",
   "execution_count": 182,
   "metadata": {},
   "outputs": [
    {
     "name": "stdout",
     "output_type": "stream",
     "text": [
      "Students ---- Grade ---- Status\n",
      "Alice ----- 7.9 ------ Congratulations, you passed!\n",
      "Bob ----- 1.1 ------ Sad but true, you reproved\n",
      "Charlie ----- 2.3 ------ Sad but true, you reproved\n",
      "David ----- 3.8 ------ Sad but true, you reproved\n",
      "Eve ----- 1.7 ------ Sad but true, you reproved\n",
      "Frank ----- 5.3 ------ Congratulations, you passed!\n",
      "Grace ----- 6.8 ------ Congratulations, you passed!\n",
      "Henry ----- 8.2 ------ Congratulations, you passed!\n",
      "Isabel ----- 2.4 ------ Sad but true, you reproved\n",
      "Jack ----- 6.5 ------ Congratulations, you passed!\n",
      "Katie ----- 8.4 ------ Congratulations, you passed!\n",
      "Liam ----- 4.9 ------ Sad but true, you reproved\n",
      "Mia ----- 3.8 ------ Sad but true, you reproved\n",
      "Noah ----- 8.6 ------ Congratulations, you passed!\n",
      "Olivia ----- 3.0 ------ Sad but true, you reproved\n",
      "Patrick ----- 3.3 ------ Sad but true, you reproved\n",
      "Quinn ----- 6.1 ------ Congratulations, you passed!\n",
      "Rachel ----- 9.1 ------ Congratulations, you passed!\n",
      "Sam ----- 6.6 ------ Congratulations, you passed!\n",
      "Tina ----- 8.5 ------ Congratulations, you passed!\n",
      "Ursula ----- 4.4 ------ Sad but true, you reproved\n",
      "Victor ----- 0.7 ------ Sad but true, you reproved\n",
      "Wendy ----- 9.8 ------ Congratulations, you passed!\n",
      "Xander ----- 8.9 ------ Congratulations, you passed!\n",
      "Yvonne ----- 0.1 ------ Sad but true, you reproved\n",
      "Zack ----- 4.8 ------ Sad but true, you reproved\n",
      "Amelia ----- 5.7 ------ Congratulations, you passed!\n",
      "Ben ----- 9.5 ------ Congratulations, you passed!\n",
      "Catherine ----- 5.0 ------ Congratulations, you passed!\n",
      "Daniel ----- 8.9 ------ Congratulations, you passed!\n",
      "Emma ----- 8.6 ------ Congratulations, you passed!\n",
      "Finn ----- 9.0 ------ Congratulations, you passed!\n",
      "Gabriella ----- 6.4 ------ Congratulations, you passed!\n",
      "Hannah ----- 1.6 ------ Sad but true, you reproved\n",
      "Ian ----- 2.8 ------ Sad but true, you reproved\n",
      "Jessica ----- 4.9 ------ Sad but true, you reproved\n",
      "Kevin ----- 9.6 ------ Congratulations, you passed!\n",
      "Lily ----- 4.8 ------ Sad but true, you reproved\n",
      "Michael ----- 8.7 ------ Congratulations, you passed!\n",
      "Nora ----- 3.9 ------ Sad but true, you reproved\n",
      "Class media is 5.659999999999999 and Dawn guys, you need to improve\n"
     ]
    }
   ],
   "source": [
    "\n",
    "\n",
    "     \n",
    "print(f\"Students ---- Grade ---- Status\")     \n",
    "for index in range(0,40):\n",
    "        if grades[index] >= 5:\n",
    "                status = 'Congratulations, you passed!'\n",
    "        else:\n",
    "                status = \"Sad but true, you reproved\"\n",
    "        print(f\"{students[index]} ----- {grades[index]} ------ {status}\")\n",
    "   \n",
    "soma = 0 \n",
    "for g in grades:\n",
    "    soma = soma + g\n",
    "media =soma/40\n",
    "if media >= 6:\n",
    "        status = 'Congratulations, your class is good'\n",
    "else:\n",
    "        status = \"Dawn guys, you need to improve\"\n",
    "print(f\"Class media is {media} and {status}\")\n"
   ]
  }
 ],
 "metadata": {
  "kernelspec": {
   "display_name": ".venv",
   "language": "python",
   "name": "python3"
  },
  "language_info": {
   "codemirror_mode": {
    "name": "ipython",
    "version": 3
   },
   "file_extension": ".py",
   "mimetype": "text/x-python",
   "name": "python",
   "nbconvert_exporter": "python",
   "pygments_lexer": "ipython3",
   "version": "3.12.3"
  }
 },
 "nbformat": 4,
 "nbformat_minor": 2
}
