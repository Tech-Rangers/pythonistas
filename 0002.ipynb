{
 "cells": [
  {
   "cell_type": "markdown",
   "metadata": {},
   "source": [
    "## Lesson 0002\n",
    "\n",
    " - recap list and for loops\n",
    " - formatted print\n",
    " - if statement\n",
    " - challenge"
   ]
  },
  {
   "cell_type": "code",
   "execution_count": null,
   "metadata": {},
   "outputs": [],
   "source": [
    "# exemplo portão automático\n",
    "\n",
    "sensor = 1\n",
    "\n",
    "if sensor == 0:\n",
    "    pass\n",
    "    # motor continua a abertura do portão\n",
    "else:\n",
    "    # para o motor\n",
    "    pass"
   ]
  },
  {
   "cell_type": "code",
   "execution_count": null,
   "metadata": {},
   "outputs": [],
   "source": [
    "# print formatado\n",
    "\n",
    "print(f\"A média do {aluno } é {media}.\")"
   ]
  },
  {
   "cell_type": "markdown",
   "metadata": {},
   "source": [
    "### Desafio\n",
    "\n",
    "Como professor, você é responsável por 40 alunos. Os alunos acabaram de fazer um teste e agora você tem as notas dos 40 alunos.\n",
    "Você quer exibir uma tabela com o **nome** do aluno, a **nota** e o **status**, onde o status indica se o aluno passou no teste ou não.\n",
    "\n",
    "Use o conhecimento de loops for, impressão formatada e declarações if para construir esta tabela que será exibida na saída do notebook Python.\n",
    "\n",
    "Siga estes requisitos:\n",
    " - a tabela deve ter um cabeçalho com as três colunas\n",
    " - cada linha corresponde a um aluno\n",
    " - as notas são números float de 0 a 10, com uma precisão de uma casa decimal\n",
    " - a nota de aprovação do teste é 5\n",
    " - os `students` e `grades` já estão ordenados de forma que *o **students[i]** tem **grades[i]***\n",
    "\n",
    "Bônus:\n",
    " - adicione uma linha final com a **média da turma**\n",
    " - ajuste o preenchimento das colunas para que todas as colunas sejam impressas com a mesma largura\n",
    "\n",
    "\n",
    "#### Dica de preenchimento de impressão formatada\n",
    " - `i:<10` => justifica o texto à esquerda dentro de uma largura de 10 caracteres\n",
    " - `i:>10` => justifica o texto à direita dentro de uma largura de 10 caracteres\n",
    " - `i:^10` => justifica o texto ao centro dentro de uma largura de 10 caracteres"
   ]
  },
  {
   "cell_type": "code",
   "execution_count": null,
   "metadata": {},
   "outputs": [],
   "source": [
    "# run once to setup the challenge\n",
    "\n",
    "import random\n",
    "\n",
    "students = [\"Alice\", \"Bob\", \"Charlie\", \"David\", \"Eve\", \"Frank\", \"Grace\", \"Henry\", \"Isabel\", \"Jack\",\n",
    "            \"Katie\", \"Liam\", \"Mia\", \"Noah\", \"Olivia\", \"Patrick\", \"Quinn\", \"Rachel\", \"Sam\", \"Tina\",\n",
    "            \"Ursula\", \"Victor\", \"Wendy\", \"Xander\", \"Yvonne\", \"Zack\", \"Amelia\", \"Ben\", \"Catherine\", \"Daniel\",\n",
    "            \"Emma\", \"Finn\", \"Gabriella\", \"Hannah\", \"Ian\", \"Jessica\", \"Kevin\", \"Lily\", \"Michael\", \"Nora\"]\n",
    "\n",
    "grades = [round(random.uniform(0, 10), 1) for _ in range(40)]"
   ]
  }
 ],
 "metadata": {
  "kernelspec": {
   "display_name": ".venv",
   "language": "python",
   "name": "python3"
  },
  "language_info": {
   "codemirror_mode": {
    "name": "ipython",
    "version": 3
   },
   "file_extension": ".py",
   "mimetype": "text/x-python",
   "name": "python",
   "nbconvert_exporter": "python",
   "pygments_lexer": "ipython3",
   "version": "3.12.3"
  }
 },
 "nbformat": 4,
 "nbformat_minor": 2
}
