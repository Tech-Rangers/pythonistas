{
 "cells": [
  {
   "cell_type": "markdown",
   "metadata": {},
   "source": [
    "## Lesson 0002\n",
    "\n",
    " - recap list and for loops\n",
    " - formatted print\n",
    " - if statement\n",
    " - challenge"
   ]
  },
  {
   "cell_type": "code",
   "execution_count": null,
   "metadata": {},
   "outputs": [],
   "source": [
    "# exemplo portão automático\n",
    "\n",
    "sensor = 1\n",
    "\n",
    "if sensor == 0:\n",
    "    pass\n",
    "    # motor continua a abertura do portão\n",
    "else:\n",
    "    # para o motor\n",
    "    pass"
   ]
  },
  {
   "cell_type": "code",
   "execution_count": null,
   "metadata": {},
   "outputs": [],
   "source": [
    "# print formatado\n",
    "\n",
    "print(f\"A média do {aluno } é {media}.\")"
   ]
  },
  {
   "cell_type": "markdown",
   "metadata": {},
   "source": [
    "### Challenge\n",
    "\n",
    "As a teacher, you are responsible for 40 students. The students have just taken a test and now you have their 40 grades \n",
    "You want to display a table with the students **name**, **grade** and **status**, where status indicates if the students has passed the test or not.\n",
    "\n",
    "Use the knowledge of for loops, formatted print and if statements to build this table that will be displayed in the python notebook output\n",
    "\n",
    "Follow this requirements:\n",
    " - the table must have a header with the three column\n",
    " - each row corresponds to a student\n",
    " - grades are float number from 0 to 10, with one decimal precision\n",
    " - the test passing grade is 5\n",
    " - the `students` and `grades` are already sorted such as *the **students[i]** has **grades[i]***\n",
    "\n",
    "Bonus:\n",
    " - add a final row with the entire class **average grade**\n",
    " - adjust column padding so all column are printed with the same width\n",
    "\n",
    "\n",
    "#### Formatted print padding tip\n",
    " - `i:<10` => justify text to the left within 10 characters width\n",
    " - `i:>10` => justify text to the right within 10 characters width\n",
    " - `i:^10` => justify text to the center within 10 characters width"
   ]
  },
  {
   "cell_type": "code",
   "execution_count": null,
   "metadata": {},
   "outputs": [],
   "source": [
    "# run once to setup the challenge\n",
    "\n",
    "import random\n",
    "\n",
    "students = [\"Alice\", \"Bob\", \"Charlie\", \"David\", \"Eve\", \"Frank\", \"Grace\", \"Henry\", \"Isabel\", \"Jack\",\n",
    "            \"Katie\", \"Liam\", \"Mia\", \"Noah\", \"Olivia\", \"Patrick\", \"Quinn\", \"Rachel\", \"Sam\", \"Tina\",\n",
    "            \"Ursula\", \"Victor\", \"Wendy\", \"Xander\", \"Yvonne\", \"Zack\", \"Amelia\", \"Ben\", \"Catherine\", \"Daniel\",\n",
    "            \"Emma\", \"Finn\", \"Gabriella\", \"Hannah\", \"Ian\", \"Jessica\", \"Kevin\", \"Lily\", \"Michael\", \"Nora\"]\n",
    "\n",
    "grades = [round(random.uniform(0, 10), 1) for _ in range(40)]"
   ]
  }
 ],
 "metadata": {
  "kernelspec": {
   "display_name": ".venv",
   "language": "python",
   "name": "python3"
  },
  "language_info": {
   "codemirror_mode": {
    "name": "ipython",
    "version": 3
   },
   "file_extension": ".py",
   "mimetype": "text/x-python",
   "name": "python",
   "nbconvert_exporter": "python",
   "pygments_lexer": "ipython3",
   "version": "3.12.3"
  }
 },
 "nbformat": 4,
 "nbformat_minor": 2
}
