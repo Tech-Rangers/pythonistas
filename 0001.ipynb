{
  "nbformat": 4,
  "nbformat_minor": 0,
  "metadata": {
    "colab": {
      "provenance": []
    },
    "kernelspec": {
      "name": "python3",
      "display_name": "Python 3"
    },
    "language_info": {
      "name": "python"
    }
  },
  "cells": [
    {
      "cell_type": "markdown",
      "source": [
        "# Pythonistas 001\n"
      ],
      "metadata": {
        "id": "zAQxKfT2TDtS"
      }
    },
    {
      "cell_type": "markdown",
      "source": [
        "## Intro\n"
      ],
      "metadata": {
        "id": "euZSUc9UkPlj"
      }
    },
    {
      "cell_type": "markdown",
      "source": [
        "### O que é python\n",
        "\n",
        "- Criada em 1991, é uma linguagem de programação de alto nível, interpretada e de propósito geral, conhecida por sua simplicidade e legibilidade\n",
        "- Enfatiza a legibilidade do código e a sintaxe que permite aos programadores expressarem conceitos em menos linhas de código (zen of python)."
      ],
      "metadata": {
        "id": "9A-NaQ1mTAGE"
      }
    },
    {
      "cell_type": "code",
      "source": [
        "import this"
      ],
      "metadata": {
        "id": "iXs0DkPYU2nA"
      },
      "execution_count": null,
      "outputs": []
    },
    {
      "cell_type": "markdown",
      "source": [
        "### Onde python é usado\n",
        "\n",
        "- Desenvolvimento Web\n",
        "- Automação\n",
        "- Ciência de dados (Data Science)\n",
        "- Aprendizagem de máquina e inteligência artifical (Machine Learning and AI)\n",
        "- Visão computacional\n",
        "- Processamento de linguagem natural (NLP)\n",
        "- Manipulação e análises de sequências ([BioPython](https://biopython.org/))"
      ],
      "metadata": {
        "id": "CJbBtJCXU4Rp"
      }
    },
    {
      "cell_type": "markdown",
      "source": [
        "### Versões do Python\n",
        "\n",
        "1. **1991 ~ 2000** (×_×)\n",
        "2. **2000 ~ 2020** (꩜ ᯅ ꩜;)⁭\n",
        "3. **2008 ~ presente** ദ്ദി(˵ •̀ ᴗ - ˵ ) ✧\n",
        "\n"
      ],
      "metadata": {
        "id": "xS2OGxKHilTT"
      }
    },
    {
      "cell_type": "markdown",
      "source": [
        "## Hands-On"
      ],
      "metadata": {
        "id": "B1acQWsLkHT_"
      }
    },
    {
      "cell_type": "markdown",
      "source": [
        "### Primitive Data types\n",
        "\n",
        "#### Operators\n",
        "\n",
        "- **Arithmetic** operators (+ - * /) ( // numero inteiro da divis) (% resto da div.)\n",
        "- **Assignment** operators (=)\n",
        "- **Comparison** operators (== comparar) (!= diferente)\n",
        "- Logical operators\n",
        "- Identity operators\n",
        "- Membership operators\n",
        "- Bitwise operators"
      ],
      "metadata": {
        "id": "e00KnbhfkU6_"
      }
    },
    {
      "cell_type": "code",
      "source": [
        "média = (8 + 7.5)/ 2\n",
        "print (média)\n"
      ],
      "metadata": {
        "colab": {
          "base_uri": "https://localhost:8080/"
        },
        "id": "oSNU9K609vYY",
        "outputId": "316e8002-7170-4a1b-843a-b0b598660f50"
      },
      "execution_count": null,
      "outputs": [
        {
          "output_type": "stream",
          "name": "stdout",
          "text": [
            "7.75\n"
          ]
        }
      ]
    },
    {
      "cell_type": "code",
      "source": [
        "aprovado = média>=5\n",
        "reprovado = média<5\n",
        "print(reprovado)\n"
      ],
      "metadata": {
        "colab": {
          "base_uri": "https://localhost:8080/"
        },
        "id": "Mhf6JfkqBpFJ",
        "outputId": "07707314-3456-4045-f789-f2c6f4cb401b"
      },
      "execution_count": null,
      "outputs": [
        {
          "output_type": "stream",
          "name": "stdout",
          "text": [
            "False\n"
          ]
        }
      ]
    },
    {
      "cell_type": "code",
      "source": [
        "type(aprovado)"
      ],
      "metadata": {
        "colab": {
          "base_uri": "https://localhost:8080/"
        },
        "id": "wDOxykhBCOy_",
        "outputId": "8e3416b4-8278-4b38-b892-2d6f324fdf3c"
      },
      "execution_count": null,
      "outputs": [
        {
          "output_type": "execute_result",
          "data": {
            "text/plain": [
              "bool"
            ]
          },
          "metadata": {},
          "execution_count": 7
        }
      ]
    },
    {
      "cell_type": "code",
      "source": [
        "\"True\"!= True"
      ],
      "metadata": {
        "colab": {
          "base_uri": "https://localhost:8080/"
        },
        "id": "tQlX8hPmCjeT",
        "outputId": "46f7848b-9189-4c2d-e7bf-0edeace4ddc4"
      },
      "execution_count": null,
      "outputs": [
        {
          "output_type": "execute_result",
          "data": {
            "text/plain": [
              "True"
            ]
          },
          "metadata": {},
          "execution_count": 10
        }
      ]
    },
    {
      "cell_type": "markdown",
      "source": [
        "### Iterable Data Types\n",
        "\n",
        "\n",
        "Exercícios: Cálculo de juros compostos"
      ],
      "metadata": {
        "id": "OJno17S3kgmo"
      }
    },
    {
      "cell_type": "code",
      "source": [],
      "metadata": {
        "id": "vj906QYfjyfD"
      },
      "execution_count": null,
      "outputs": []
    }
  ]
}