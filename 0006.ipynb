{
 "cells": [
  {
   "cell_type": "markdown",
   "metadata": {},
   "source": [
    "## Aula 0006\n",
    "\n",
    "- dicionário\n",
    "- set"
   ]
  },
  {
   "cell_type": "markdown",
   "metadata": {},
   "source": [
    "### Dicionário"
   ]
  },
  {
   "cell_type": "code",
   "execution_count": 5,
   "metadata": {},
   "outputs": [
    {
     "name": "stdout",
     "output_type": "stream",
     "text": [
      "{'nome': 'Carlos', 'peso': 64, 'idade': 30, 'profissao': 'backend developer'}\n"
     ]
    }
   ],
   "source": [
    "meu_dicionario = {\n",
    "    'nome': \"Carlos\",\n",
    "    'peso': 64,\n",
    "    'idade': 30,\n",
    "    'profissao': \"backend developer\"\n",
    "}\n",
    "print(meu_dicionario)"
   ]
  },
  {
   "cell_type": "code",
   "execution_count": 10,
   "metadata": {},
   "outputs": [
    {
     "name": "stdout",
     "output_type": "stream",
     "text": [
      "O nome do animal 1 é Murphy\n"
     ]
    }
   ],
   "source": [
    "animal1 = {'espécie': 'Gato', 'idade': 6, \"peso\": 5.5, 'dono': 'Juliana', 'nome': 'Murphy'}\n",
    "animal2 = {'nome': 'Koda', 'espécie': 'Cão', 'idade': 6, \"peso\": 19, 'dono': 'Carlos'}\n",
    "\n",
    "print(f\"O nome do animal 1 é {animal1['nome']}\")\n",
    "\n",
    "animais = [animal1, animal2]"
   ]
  },
  {
   "cell_type": "code",
   "execution_count": 14,
   "metadata": {},
   "outputs": [
    {
     "name": "stdout",
     "output_type": "stream",
     "text": [
      "Dados do murphye {'espécie': 'Gato', 'idade': 7, 'peso': 5.5, 'dono': 'Juliana', 'nome': 'Murphy'}\n",
      "Dados atualizados {'espécie': 'Gato', 'idade': 7, 'peso': 5.5, 'dono': 'Juliana', 'nome': 'Murphy', 'observações': 'É muito preguiçoso e esfomeado, mas parece um tigre branco'}\n",
      "Dados pós delete {'espécie': 'Gato', 'idade': 7, 'dono': 'Juliana', 'nome': 'Murphy', 'observações': 'É muito preguiçoso e esfomeado, mas parece um tigre branco'}\n"
     ]
    }
   ],
   "source": [
    "dados_do_murphy = {'espécie': 'Gato', 'idade': 6, \"peso\": 5.5, 'dono': 'Juliana', 'nome': 'Murphy'}\n",
    "dados_do_murphy['idade'] = dados_do_murphy['idade'] + 1\n",
    "\n",
    "print(f\"Dados do murphye {dados_do_murphy}\")\n",
    "\n",
    "dados_do_murphy['observações'] = 'É muito preguiçoso e esfomeado, mas parece um tigre branco'\n",
    "\n",
    "print(f'Dados atualizados {dados_do_murphy}')\n",
    "\n",
    "del dados_do_murphy['peso']\n",
    "print(f'Dados pós delete {dados_do_murphy}')"
   ]
  },
  {
   "cell_type": "code",
   "execution_count": 23,
   "metadata": {},
   "outputs": [
    {
     "name": "stdout",
     "output_type": "stream",
     "text": [
      "O valor de espécie é Gato\n",
      "O valor de idade é 6\n",
      "O valor de peso é 5.5\n",
      "O valor de dono é Juliana\n",
      "O valor de nome é Murphy\n",
      "O valor de nome é Koda\n",
      "O valor de espécie é Cão\n",
      "O valor de idade é 6\n",
      "O valor de peso é 19\n",
      "O valor de dono é Carlos\n"
     ]
    }
   ],
   "source": [
    "animais = [\n",
    "    {\n",
    "        'espécie': 'Gato',\n",
    "        'idade': 6,\n",
    "        \"peso\": 5.5,\n",
    "        'dono': 'Juliana',\n",
    "        'nome': 'Murphy',\n",
    "    },\n",
    "    {\n",
    "        'nome': 'Koda',\n",
    "        'espécie': 'Cão',\n",
    "        'idade': 6,\n",
    "        \"peso\": 19,\n",
    "        'dono': 'Carlos',\n",
    "    },\n",
    "]\n",
    "\n",
    "# Jeito 1\n",
    "# for animal in animais:\n",
    "#     for palavra in animal:\n",
    "#         print(f\"O valor de {palavra} é {animal[palavra]}\")\n",
    "\n",
    "# Jeito 2\n",
    "for animal in animais:\n",
    "    for chave, valor in animal.items():\n",
    "        print(f\"O valor de {chave} é {valor}\")"
   ]
  },
  {
   "cell_type": "markdown",
   "metadata": {},
   "source": []
  },
  {
   "cell_type": "markdown",
   "metadata": {},
   "source": [
    "### Set\n"
   ]
  },
  {
   "cell_type": "code",
   "execution_count": 31,
   "metadata": {},
   "outputs": [
    {
     "name": "stdout",
     "output_type": "stream",
     "text": [
      "['Liberdade', 'Penha', 'Lapa', 'Leopoldina', 'Osasco', 'Pinheiros', 'Itaquera', 'Sé']\n"
     ]
    }
   ],
   "source": [
    "\n",
    "lugares_visitados = [\n",
    "    \"Liberdade\",\n",
    "    \"Penha\",\n",
    "    \"Lapa\", \n",
    "    \"Liberdade\",\n",
    "    \"Leopoldina\",\n",
    "    \"Osasco\",\n",
    "    \"Lapa\",\n",
    "    \"Pinheiros\",\n",
    "    \"Itaquera\",\n",
    "    \"Pinheiros\",\n",
    "    \"Sé\",\n",
    "    \"Liberdade\"\n",
    "]\n",
    "\n",
    "lugares_em_que_ja_passei = []\n",
    "\n",
    "for lugar in lugares_visitados:\n",
    "    if lugar not in lugares_em_que_ja_passei:\n",
    "        lugares_em_que_ja_passei.append(lugar)\n",
    "\n",
    "print(lugares_em_que_ja_passei)"
   ]
  },
  {
   "cell_type": "code",
   "execution_count": 34,
   "metadata": {},
   "outputs": [
    {
     "name": "stdout",
     "output_type": "stream",
     "text": [
      "{'Liberdade', 'Lapa', 'Pinheiros', 'Osasco', 'Sé', 'Leopoldina', 'Penha', 'Itaquera'}\n"
     ]
    }
   ],
   "source": [
    "lugares_em_que_ja_passei = set() # Ná prática, o `set` é um dicionário sem os valores. É um dicionário especial que possui somente as chaves\n",
    "for lugar in lugares_visitados:\n",
    "    lugares_em_que_ja_passei.add(lugar)\n",
    "\n",
    "print(lugares_em_que_ja_passei)"
   ]
  },
  {
   "cell_type": "markdown",
   "metadata": {},
   "source": [
    "### Extra\n",
    "\n",
    "No python\n",
    "\n",
    "- `list()` é a mesma coisa que `[]`\n",
    "- `dict()` é a mesma coisa que `{}`"
   ]
  },
  {
   "cell_type": "markdown",
   "metadata": {},
   "source": [
    "## Desafio\n",
    "\n",
    "### Registro de Ingressos para o Cinema\n",
    "\n",
    "#### Cenário\n",
    "Vocês foram contratadas para desenvolver um sistema em Python para registrar a venda de ingressos em um cinema. O cinema oferece uma variedade de filmes e precisa de um sistema para organizar as vendas e monitorar os ingressos comprados pelos clientes.\n",
    "\n",
    "Filmes Disponíveis:\n",
    "\n",
    "- Planeta dos Macacos: O Reinado\n",
    "- Divertidamente 2\n",
    "- Garfield\n",
    "- Furiosa\n",
    "- Bad Boys\n",
    "\n",
    "#### Requisitos do Sistema\n",
    "\n",
    "1. **Registro de Compra de Ingressos**\n",
    "    - Cada pessoa que vai sozinha só pode comprar 1 ingresso.\n",
    "    - Cada casal sempre compra 2 ingressos, com as cadeiras uma do lado da outra.\n",
    "    - As compras devem ser registradas com o nome do cliente (ou casal) e o filme assistido.\n",
    "\n",
    "2. **Salas de Cinema e Assentos**\n",
    "    - Todas as salas de cinema possuem as seguintes cadeiras:\n",
    "        ```python\n",
    "        [\n",
    "            ['A1', 'A2', 'A3'],\n",
    "            ['B1', 'B2', 'B3'],\n",
    "            ['C1', 'C2', 'C3'],\n",
    "        ]\n",
    "        ```\n",
    "    - Cada sala exibe somente 1 filme, escolhido aleatoriamente.\n",
    "\n",
    "3. **Seleção de Assentos**\n",
    "    - A pessoa que assiste o filme sozinha escolhe o assento aleatoriamente. Se não houver assento disponível, a pessoa vai embora e não compra o ingresso.\n",
    "    - Os casais escolhem sempre o primeiro par de cadeiras disponível. Se não houver 2 assentos um do lado do outro disponíveis, o casal vai embora e não compra ingressos.\n",
    "\n",
    "4. **Gestão de Vendas e Assentos**\n",
    "    - O sistema deve gerenciar as vendas de ingressos e os assentos ocupados.\n",
    "    - Deve ser possível verificar o estado atual dos assentos em cada sala.\n",
    "\n",
    "#### Tarefas\n",
    "\n",
    "1. **Planejamento e Implementação**\n",
    "    - Crie a estrutura do sistema, incluindo dicionários para armazenar as vendas e a ocupação dos assentos.\n",
    "    - Implemente as funcionalidades básicas para registrar compras e alocar assentos.\n",
    "\n",
    "2. **Funções Principais**\n",
    "    - Função para registrar a compra de ingressos para pessoas individuais e casais.\n",
    "    - Função para escolher assentos aleatoriamente para pessoas individuais.\n",
    "    - Função para escolher o primeiro par de assentos disponível para casais.\n",
    "    - Função para exibir o estado atual dos assentos em cada sala.\n",
    "\n",
    "3. **Testes e Validação**\n",
    "    - Teste o sistema com diferentes cenários para garantir que todas as funcionalidades estão operando corretamente.\n",
    "    - Verifique se o sistema está lidando corretamente com situações onde não há assentos disponíveis.\n"
   ]
  },
  {
   "cell_type": "code",
   "execution_count": null,
   "metadata": {},
   "outputs": [],
   "source": [
    "pessoas = [\n",
    "    \"Ana\",              # solteira -> type(\"Ana\") == str\n",
    "    [\"Bruno\", \"Carla\"], # casal    -> type([\"Bruno\", \"Carla\"]) == list\n",
    "    \"Daniel\",\n",
    "    [\"Eduardo\", \"Fernanda\"],\n",
    "    \"Gabriela\",\n",
    "    \"Helena\",\n",
    "    [\"Igor\", \"Juliana\"],\n",
    "    \"Lucas\",\n",
    "    [\"Mariana\", \"Nicolas\"],\n",
    "    \"Olivia\",\n",
    "    \"Pedro\",\n",
    "    [\"Quentin\", \"Rafaela\"],\n",
    "    \"Sofia\",\n",
    "    [\"Thiago\", \"Ursula\"],\n",
    "    \"Vanessa\",\n",
    "    \"William\",\n",
    "    [\"Xavier\", \"Yara\"],\n",
    "    \"Zoe\",\n",
    "    [\"Arthur\", \"Beatriz\"],\n",
    "    \"Camila\",\n",
    "    [\"Davi\", \"Elena\"],\n",
    "    \"Felipe\",\n",
    "    [\"Gustavo\", \"Heloisa\"],\n",
    "    \"Isabel\",\n",
    "    [\"João\", \"Karina\"],\n",
    "    \"Lara\",\n",
    "    [\"Miguel\", \"Natália\"],\n",
    "    \"Otávio\",\n",
    "    [\"Paulo\", \"Renata\"]\n",
    "]\n",
    "\n",
    "filmes = [\n",
    "    \"Planeta dos Macacos: O Reinado\",\n",
    "    \"Divertidamente 2\",\n",
    "    \"Garfield\",\n",
    "    \"Furiosa\",\n",
    "    \"Bad Boys\",\n",
    "]"
   ]
  }
 ],
 "metadata": {
  "kernelspec": {
   "display_name": ".venv",
   "language": "python",
   "name": "python3"
  },
  "language_info": {
   "codemirror_mode": {
    "name": "ipython",
    "version": 3
   },
   "file_extension": ".py",
   "mimetype": "text/x-python",
   "name": "python",
   "nbconvert_exporter": "python",
   "pygments_lexer": "ipython3",
   "version": "3.12.3"
  }
 },
 "nbformat": 4,
 "nbformat_minor": 2
}
