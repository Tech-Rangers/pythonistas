{
 "cells": [
  {
   "cell_type": "markdown",
   "metadata": {},
   "source": [
    "#I solemnly swear I am up to no good"
   ]
  },
  {
   "cell_type": "code",
   "execution_count": 1,
   "metadata": {},
   "outputs": [],
   "source": [
    "import random\n",
    "\n",
    "alunos = [\"Alice\", \"Bob\", \"Charlie\", \"David\", \"Eve\", \"Frank\", \"Grace\", \"Henry\", \"Isabel\", \"Jack\",\n",
    "            \"Katie\", \"Liam\", \"Mia\", \"Noah\", \"Olivia\", \"Patrick\", \"Quinn\", \"Rachel\", \"Sam\", \"Tina\",\n",
    "            \"Ursula\", \"Victor\", \"Wendy\", \"Xander\", \"Yvonne\", \"Zack\", \"Amelia\", \"Ben\", \"Catherine\", \"Daniel\",\n",
    "            \"Emma\", \"Finn\", \"Gabriella\", \"Hannah\", \"Ian\", \"Jessica\", \"Kevin\", \"Lily\", \"Michael\", \"Nora\"]\n",
    "notas = [round(random.uniform(0, 10), 1) for _ in range(40)]"
   ]
  },
  {
   "cell_type": "code",
   "execution_count": 2,
   "metadata": {},
   "outputs": [],
   "source": [
    "def print_in_red(message: str) -> None:\n",
    "    print(f'\\33[31m{message}\\033[0m')\n",
    "\n",
    "def print_in_green(message: str) -> None:\n",
    "    print(f'\\33[32m{message}\\033[0m')"
   ]
  },
  {
   "cell_type": "code",
   "execution_count": 3,
   "metadata": {},
   "outputs": [
    {
     "name": "stdout",
     "output_type": "stream",
     "text": [
      "|\u001b[35m\u001b[1m\u001b[47m                  try                   \u001b[0m|\n"
     ]
    }
   ],
   "source": [
    "message0 = 'try'\n",
    "align = \"^\" # ['<', '>', '^'] \n",
    "width = 40\n",
    "color = \"\\33[35m\"\n",
    "style = \"\\33[1m\"\n",
    "background = \"\\33[47m\"\n",
    "print(f'|{color}{style}{background}{message0:{align}{width}}\\033[0m|')"
   ]
  },
  {
   "cell_type": "code",
   "execution_count": 4,
   "metadata": {},
   "outputs": [
    {
     "name": "stdout",
     "output_type": "stream",
     "text": [
      "|                 Alunos                                  Notas                                   Status                 |\n",
      "|                 Alice                                    9.1                   \u001b[31m                 Passed                 \u001b[0m|\n",
      "|                  Bob                                     9.1                   \u001b[31m                 Passed                 \u001b[0m|\n",
      "|                Charlie                                   2.7                   \u001b[32m                 Failed                 \u001b[0m|\n",
      "|                 David                                    5.1                   \u001b[31m                 Passed                 \u001b[0m|\n",
      "|                  Eve                                     5.5                   \u001b[31m                 Passed                 \u001b[0m|\n",
      "|                 Frank                                    4.9                   \u001b[32m                 Failed                 \u001b[0m|\n",
      "|                 Grace                                    5.3                   \u001b[31m                 Passed                 \u001b[0m|\n",
      "|                 Henry                                    6.9                   \u001b[31m                 Passed                 \u001b[0m|\n",
      "|                 Isabel                                   7.1                   \u001b[31m                 Passed                 \u001b[0m|\n",
      "|                  Jack                                    3.1                   \u001b[32m                 Failed                 \u001b[0m|\n",
      "|                 Katie                                    9.5                   \u001b[31m                 Passed                 \u001b[0m|\n",
      "|                  Liam                                    8.1                   \u001b[31m                 Passed                 \u001b[0m|\n",
      "|                  Mia                                     0.2                   \u001b[32m                 Failed                 \u001b[0m|\n",
      "|                  Noah                                    6.3                   \u001b[31m                 Passed                 \u001b[0m|\n",
      "|                 Olivia                                   4.9                   \u001b[32m                 Failed                 \u001b[0m|\n",
      "|                Patrick                                   9.2                   \u001b[31m                 Passed                 \u001b[0m|\n",
      "|                 Quinn                                    6.5                   \u001b[31m                 Passed                 \u001b[0m|\n",
      "|                 Rachel                                   7.9                   \u001b[31m                 Passed                 \u001b[0m|\n",
      "|                  Sam                                     3.9                   \u001b[32m                 Failed                 \u001b[0m|\n",
      "|                  Tina                                    3.9                   \u001b[32m                 Failed                 \u001b[0m|\n",
      "|                 Ursula                                   9.1                   \u001b[31m                 Passed                 \u001b[0m|\n",
      "|                 Victor                                   5.6                   \u001b[31m                 Passed                 \u001b[0m|\n",
      "|                 Wendy                                    3.0                   \u001b[32m                 Failed                 \u001b[0m|\n",
      "|                 Xander                                   2.9                   \u001b[32m                 Failed                 \u001b[0m|\n",
      "|                 Yvonne                                   7.5                   \u001b[31m                 Passed                 \u001b[0m|\n",
      "|                  Zack                                    5.9                   \u001b[31m                 Passed                 \u001b[0m|\n",
      "|                 Amelia                                   1.4                   \u001b[32m                 Failed                 \u001b[0m|\n",
      "|                  Ben                                     8.0                   \u001b[31m                 Passed                 \u001b[0m|\n",
      "|               Catherine                                  2.6                   \u001b[32m                 Failed                 \u001b[0m|\n",
      "|                 Daniel                                   4.5                   \u001b[32m                 Failed                 \u001b[0m|\n",
      "|                  Emma                                    8.0                   \u001b[31m                 Passed                 \u001b[0m|\n",
      "|                  Finn                                    8.6                   \u001b[31m                 Passed                 \u001b[0m|\n",
      "|               Gabriella                                  7.4                   \u001b[31m                 Passed                 \u001b[0m|\n",
      "|                 Hannah                                   5.1                   \u001b[31m                 Passed                 \u001b[0m|\n",
      "|                  Ian                                     3.4                   \u001b[32m                 Failed                 \u001b[0m|\n",
      "|                Jessica                                   2.7                   \u001b[32m                 Failed                 \u001b[0m|\n",
      "|                 Kevin                                    3.8                   \u001b[32m                 Failed                 \u001b[0m|\n",
      "|                  Lily                                    8.6                   \u001b[31m                 Passed                 \u001b[0m|\n",
      "|                Michael                                   7.7                   \u001b[31m                 Passed                 \u001b[0m|\n",
      "|                  Nora                                    6.3                   \u001b[31m                 Passed                 \u001b[0m|\n",
      " ................................................................................................................................. \n",
      "|                                      Class media is 5.782500000000001 and \u001b[31mPassed\u001b[0m                                       |\n"
     ]
    }
   ],
   "source": [
    "message1 = 'Alunos'\n",
    "message2 = 'Notas'\n",
    "message3 = 'Status'\n",
    "align = \"^\" # ['<', '>', '^'] \n",
    "width = 40\n",
    "print(f'|{message1:{align}{width}}{message2:{align}{width}}{message3:{align}{width}}|')    \n",
    "\n",
    "for index in range(0,40):\n",
    "        if notas[index] >= 5:\n",
    "                status = \"Passed\"\n",
    "                color = \"\\33[31m\"\n",
    "        else:\n",
    "                status = \"Failed\"\n",
    "                color = \"\\33[32m\"\n",
    "\n",
    "        print(f'|{alunos[index]:{align}{width}}{notas[index]:{align}{width}}{color}{status:{align}{width}}\\033[0m|')\n",
    "\n",
    "fill = \".\"\n",
    "width = 129\n",
    "print (f' {\"\":{fill}{align}{width}} ') \n",
    "soma = 0 \n",
    "for g in notas:\n",
    "    soma = soma + g\n",
    "media =soma/40\n",
    "if media >= 5:\n",
    "        status = \"Passed\"\n",
    "        color = \"\\33[31m\"\n",
    "else:\n",
    "        status = \"Failed\"\n",
    "        color = \"\\33[32m\"\n",
    "message4 = f\"Class media is {media} and {color}{status}\\033[0m\"                 \n",
    "print(f\"|{message4:{align}{width}}|\")"
   ]
  },
  {
   "cell_type": "code",
   "execution_count": 5,
   "metadata": {},
   "outputs": [
    {
     "name": "stdout",
     "output_type": "stream",
     "text": [
      "\u001b[31m|           Alunos reprovados                             Notas                  |\u001b[0m\n",
      "|                Charlie                                   2.7                   |\n",
      "|                 Frank                                    4.9                   |\n",
      "|                  Jack                                    3.1                   |\n",
      "|                  Mia                                     0.2                   |\n",
      "|                 Olivia                                   4.9                   |\n",
      "|                  Sam                                     3.9                   |\n",
      "|                  Tina                                    3.9                   |\n",
      "|                 Wendy                                    3.0                   |\n",
      "|                 Xander                                   2.9                   |\n",
      "|                 Amelia                                   1.4                   |\n",
      "|               Catherine                                  2.6                   |\n",
      "|                 Daniel                                   4.5                   |\n",
      "|                  Ian                                     3.4                   |\n",
      "|                Jessica                                   2.7                   |\n",
      "|                 Kevin                                    3.8                   |\n"
     ]
    }
   ],
   "source": [
    "message5 = 'Alunos reprovados'\n",
    "message6 = 'Notas'\n",
    "align = \"^\"\n",
    "width = 40\n",
    "print_in_red(f\"|{message5:{align}{width}}{message6:{align}{width}}|\")\n",
    "\n",
    "width = 40\n",
    "for index in range(0,40):\n",
    "    if notas[index] < 5:\n",
    "        print(f'|{alunos[index]:{align}{width}}{notas[index]:{align}{width}}|')"
   ]
  },
  {
   "cell_type": "code",
   "execution_count": 9,
   "metadata": {},
   "outputs": [
    {
     "name": "stdout",
     "output_type": "stream",
     "text": [
      "Hello World\n",
      "Are you convinced yet?\n",
      "Once you go colorama, you never go back-around(a)\n"
     ]
    }
   ],
   "source": [
    "from colorama import init, Fore\n",
    "init(autoreset = True) #Set autoreset to True else style configurations would be forwarded to the next print statement\n",
    "print(Fore.RED + \"Hello World\")\n",
    "print(Fore.YELLOW + \"Are you convinced yet?\")\n",
    "print(Fore.GREEN + \"Once you go colorama, you never go back-around(a)\") #Find better joke"
   ]
  },
  {
   "cell_type": "code",
   "execution_count": 7,
   "metadata": {},
   "outputs": [
    {
     "name": "stdout",
     "output_type": "stream",
     "text": [
      "The 16 colors scheme is:\n",
      " 30   31   32   33   34   35   36   37 \n",
      "\n",
      "The 256 colors scheme is:\n",
      " 0   \n",
      "  1     2     3     4     5     6     7     8     9     10    11    12    13    14    15    16  \n",
      "  17    18    19    20    21    22    23    24    25    26    27    28    29    30    31    32  \n",
      "  33    34    35    36    37    38    39    40    41    42    43    44    45    46    47    48  \n",
      "  49    50    51    52    53    54    55    56    57    58    59    60    61    62    63    64  \n",
      "  65    66    67    68    69    70    71    72    73    74    75    76    77    78    79    80  \n",
      "  81    82    83    84    85    86    87    88    89    90    91    92    93    94    95    96  \n",
      "  97    98    99    100   101   102   103   104   105   106   107   108   109   110   111   112 \n",
      "  113   114   115   116   117   118   119   120   121   122   123   124   125   126   127   128 \n",
      "  129   130   131   132   133   134   135   136   137   138   139   140   141   142   143   144 \n",
      "  145   146   147   148   149   150   151   152   153   154   155   156   157   158   159   160 \n",
      "  161   162   163   164   165   166   167   168   169   170   171   172   173   174   175   176 \n",
      "  177   178   179   180   181   182   183   184   185   186   187   188   189   190   191   192 \n",
      "  193   194   195   196   197   198   199   200   201   202   203   204   205   206   207   208 \n",
      "  209   210   211   212   213   214   215   216   217   218   219   220   221   222   223   224 \n",
      "  225   226   227   228   229   230   231   232   233   234   235   236   237   238   239   240 \n",
      "  241   242   243   244   245   246   247   248   249   250   251   252   253   254   255 \n"
     ]
    }
   ],
   "source": [
    "# colorspep8.py\n",
    "def colors_16(color_):\n",
    "    return(\"\\033[2;{num}m {num} \\033[0;0m\".format(num=str(color_)))\n",
    "\n",
    "\n",
    "def colors_256(color_):\n",
    "    num1 = str(color_)\n",
    "    num2 = str(color_).ljust(3, ' ')\n",
    "    if color_ % 16 == 0:\n",
    "        return(f\"\\033[38;5;{num1}m {num2} \\033[0;0m\\n\")\n",
    "    else:\n",
    "        return(f\"\\033[38;5;{num1}m {num2} \\033[0;0m\")\n",
    "\n",
    "print(\"The 16 colors scheme is:\")\n",
    "print(' '.join([colors_16(x) for x in range(30, 38)]))\n",
    "print(\"\\nThe 256 colors scheme is:\")\n",
    "print(' '.join([colors_256(x) for x in range(256)]))"
   ]
  }
 ],
 "metadata": {
  "kernelspec": {
   "display_name": ".venv",
   "language": "python",
   "name": "python3"
  },
  "language_info": {
   "codemirror_mode": {
    "name": "ipython",
    "version": 3
   },
   "file_extension": ".py",
   "mimetype": "text/x-python",
   "name": "python",
   "nbconvert_exporter": "python",
   "pygments_lexer": "ipython3",
   "version": "3.12.4"
  }
 },
 "nbformat": 4,
 "nbformat_minor": 2
}
