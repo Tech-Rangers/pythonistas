{
 "cells": [
  {
   "cell_type": "code",
   "execution_count": null,
   "metadata": {},
   "outputs": [],
   "source": []
  },
  {
   "cell_type": "code",
   "execution_count": 58,
   "metadata": {},
   "outputs": [],
   "source": [
    "import random\n",
    "\n",
    "alunos = [\"Alice\", \"Bob\", \"Charlie\", \"David\", \"Eve\", \"Frank\", \"Grace\", \"Henry\", \"Isabel\", \"Jack\",\n",
    "            \"Katie\", \"Liam\", \"Mia\", \"Noah\", \"Olivia\", \"Patrick\", \"Quinn\", \"Rachel\", \"Sam\", \"Tina\",\n",
    "            \"Ursula\", \"Victor\", \"Wendy\", \"Xander\", \"Yvonne\", \"Zack\", \"Amelia\", \"Ben\", \"Catherine\", \"Daniel\",\n",
    "            \"Emma\", \"Finn\", \"Gabriella\", \"Hannah\", \"Ian\", \"Jessica\", \"Kevin\", \"Lily\", \"Michael\", \"Nora\"]\n",
    "notas = [round(random.uniform(0, 10), 1) for _ in range(40)]"
   ]
  },
  {
   "cell_type": "code",
   "execution_count": 125,
   "metadata": {},
   "outputs": [],
   "source": [
    "def print_in_red(message: str) -> None:\n",
    "    print(f'\\33[31m{message}\\033[0m')\n",
    "\n",
    "def print_in_green(message: str) -> None:\n",
    "    print(f'\\33[32m{message}\\033[0m')"
   ]
  },
  {
   "cell_type": "code",
   "execution_count": 102,
   "metadata": {},
   "outputs": [
    {
     "name": "stdout",
     "output_type": "stream",
     "text": [
      "|                 Alunos                                  Notas                                   Status                 |\n",
      "|                 Alice                                    9.5                   \u001b[31m                 Passed                 \u001b[0m|\n",
      "|                  Bob                                     6.7                   \u001b[31m                 Passed                 \u001b[0m|\n",
      "|                Charlie                                   0.1                   \u001b[32m                 Failed                 \u001b[0m|\n",
      "|                 David                                    0.7                   \u001b[32m                 Failed                 \u001b[0m|\n",
      "|                  Eve                                     4.5                   \u001b[32m                 Failed                 \u001b[0m|\n",
      "|                 Frank                                    4.1                   \u001b[32m                 Failed                 \u001b[0m|\n",
      "|                 Grace                                    2.1                   \u001b[32m                 Failed                 \u001b[0m|\n",
      "|                 Henry                                    0.5                   \u001b[32m                 Failed                 \u001b[0m|\n",
      "|                 Isabel                                   1.2                   \u001b[32m                 Failed                 \u001b[0m|\n",
      "|                  Jack                                    9.4                   \u001b[31m                 Passed                 \u001b[0m|\n",
      "|                 Katie                                    3.8                   \u001b[32m                 Failed                 \u001b[0m|\n",
      "|                  Liam                                    7.0                   \u001b[31m                 Passed                 \u001b[0m|\n",
      "|                  Mia                                     4.4                   \u001b[32m                 Failed                 \u001b[0m|\n",
      "|                  Noah                                    7.5                   \u001b[31m                 Passed                 \u001b[0m|\n",
      "|                 Olivia                                   7.3                   \u001b[31m                 Passed                 \u001b[0m|\n",
      "|                Patrick                                   1.0                   \u001b[32m                 Failed                 \u001b[0m|\n",
      "|                 Quinn                                    6.7                   \u001b[31m                 Passed                 \u001b[0m|\n",
      "|                 Rachel                                   8.7                   \u001b[31m                 Passed                 \u001b[0m|\n",
      "|                  Sam                                     4.0                   \u001b[32m                 Failed                 \u001b[0m|\n",
      "|                  Tina                                    6.7                   \u001b[31m                 Passed                 \u001b[0m|\n",
      "|                 Ursula                                   4.7                   \u001b[32m                 Failed                 \u001b[0m|\n",
      "|                 Victor                                   4.3                   \u001b[32m                 Failed                 \u001b[0m|\n",
      "|                 Wendy                                    3.0                   \u001b[32m                 Failed                 \u001b[0m|\n",
      "|                 Xander                                   8.1                   \u001b[31m                 Passed                 \u001b[0m|\n",
      "|                 Yvonne                                   6.8                   \u001b[31m                 Passed                 \u001b[0m|\n",
      "|                  Zack                                    9.6                   \u001b[31m                 Passed                 \u001b[0m|\n",
      "|                 Amelia                                   3.7                   \u001b[32m                 Failed                 \u001b[0m|\n",
      "|                  Ben                                     4.2                   \u001b[32m                 Failed                 \u001b[0m|\n",
      "|               Catherine                                  2.9                   \u001b[32m                 Failed                 \u001b[0m|\n",
      "|                 Daniel                                   8.0                   \u001b[31m                 Passed                 \u001b[0m|\n",
      "|                  Emma                                    5.8                   \u001b[31m                 Passed                 \u001b[0m|\n",
      "|                  Finn                                    1.4                   \u001b[32m                 Failed                 \u001b[0m|\n",
      "|               Gabriella                                  7.5                   \u001b[31m                 Passed                 \u001b[0m|\n",
      "|                 Hannah                                   6.8                   \u001b[31m                 Passed                 \u001b[0m|\n",
      "|                  Ian                                     2.7                   \u001b[32m                 Failed                 \u001b[0m|\n",
      "|                Jessica                                   9.0                   \u001b[31m                 Passed                 \u001b[0m|\n",
      "|                 Kevin                                    7.9                   \u001b[31m                 Passed                 \u001b[0m|\n",
      "|                  Lily                                    2.7                   \u001b[32m                 Failed                 \u001b[0m|\n",
      "|                Michael                                   5.2                   \u001b[31m                 Passed                 \u001b[0m|\n",
      "|                  Nora                                    2.5                   \u001b[32m                 Failed                 \u001b[0m|\n",
      " ------------------------------------------------------------------------------------------------------------------------ \n",
      "|                                       Class media is 5.0675 and \u001b[31mPassed\u001b[37m                                       |\n"
     ]
    }
   ],
   "source": [
    "message1 = 'Alunos'\n",
    "message2 = 'Notas'\n",
    "message3 = 'Status'\n",
    "align = \"^\" # ['<', '>', '^'] \n",
    "width = 40\n",
    "print(f'|{message1:{align}{width}}{message2:{align}{width}}{message3:{align}{width}}|')    \n",
    "\n",
    "for index in range(0,40):\n",
    "        if notas[index] >= 5:\n",
    "                status = \"Passed\"\n",
    "                color = \"\\33[31m\"\n",
    "        else:\n",
    "                status = \"Failed\"\n",
    "                color = \"\\33[32m\"\n",
    "\n",
    "        print(f'|{alunos[index]:{align}{width}}{notas[index]:{align}{width}}{color}{status:{align}{width}}\\033[0m|')\n",
    "\n",
    "fill = \"-\"\n",
    "width = 120\n",
    "print (f' {\"\":{fill}{align}{width}} ') \n",
    "soma = 0 \n",
    "for g in notas:\n",
    "    soma = soma + g\n",
    "media =soma/40\n",
    "if media >= 5:\n",
    "        status = \"Passed\"\n",
    "        color = \"\\33[31m\"\n",
    "else:\n",
    "        status = \"Failed\"\n",
    "        color = \"\\33[32m\"\n",
    "message4 = f\"Class media is {media} and {color}{status}\\033[0m\"                 \n",
    "print(f\"|{message4:{align}{width}}|\")"
   ]
  },
  {
   "cell_type": "code",
   "execution_count": 126,
   "metadata": {},
   "outputs": [
    {
     "name": "stdout",
     "output_type": "stream",
     "text": [
      "\u001b[31m|                               Alunos reprovados                                |\u001b[0m\n",
      "|                Charlie                                   0.1                   |\n",
      "|                 David                                    0.7                   |\n",
      "|                  Eve                                     4.5                   |\n",
      "|                 Frank                                    4.1                   |\n",
      "|                 Grace                                    2.1                   |\n",
      "|                 Henry                                    0.5                   |\n",
      "|                 Isabel                                   1.2                   |\n",
      "|                 Katie                                    3.8                   |\n",
      "|                  Mia                                     4.4                   |\n",
      "|                Patrick                                   1.0                   |\n",
      "|                  Sam                                     4.0                   |\n",
      "|                 Ursula                                   4.7                   |\n",
      "|                 Victor                                   4.3                   |\n",
      "|                 Wendy                                    3.0                   |\n",
      "|                 Amelia                                   3.7                   |\n",
      "|                  Ben                                     4.2                   |\n",
      "|               Catherine                                  2.9                   |\n",
      "|                  Finn                                    1.4                   |\n",
      "|                  Ian                                     2.7                   |\n",
      "|                  Lily                                    2.7                   |\n",
      "|                  Nora                                    2.5                   |\n"
     ]
    }
   ],
   "source": [
    "message5 = 'Alunos reprovados'\n",
    "align = \"^\"\n",
    "width = 80\n",
    "print_in_red(f\"|{message5:{align}{width}}|\")\n",
    "\n",
    "width = 40\n",
    "for index in range(0,40):\n",
    "    if notas[index] < 5:\n",
    "        print(f'|{alunos[index]:{align}{width}}{notas[index]:{align}{width}}|')"
   ]
  }
 ],
 "metadata": {
  "kernelspec": {
   "display_name": ".venv",
   "language": "python",
   "name": "python3"
  },
  "language_info": {
   "codemirror_mode": {
    "name": "ipython",
    "version": 3
   },
   "file_extension": ".py",
   "mimetype": "text/x-python",
   "name": "python",
   "nbconvert_exporter": "python",
   "pygments_lexer": "ipython3",
   "version": "3.12.3"
  }
 },
 "nbformat": 4,
 "nbformat_minor": 2
}
