{
 "cells": [
  {
   "cell_type": "markdown",
   "metadata": {},
   "source": [
    "## Aula 0005\n",
    "\n",
    "- recap\n",
    "- enumerate\n",
    "- listas de listas (╯°□°)╯︵ ┻━┻\n",
    "- funções\n",
    "\n"
   ]
  },
  {
   "cell_type": "code",
   "execution_count": null,
   "metadata": {
    "vscode": {
     "languageId": "plaintext"
    }
   },
   "outputs": [],
   "source": []
  },
  {
   "cell_type": "markdown",
   "metadata": {},
   "source": [
    "### Desafio\n",
    "\n",
    "\n",
    "### Gerenciamento de Animais em um Pet Shop\n",
    "\n",
    "Você foi contratado por um Pet Shop para desenvolver um programa em Python que ajude a gerenciar os animais e seus dados. O Pet Shop deseja manter uma lista organizada com informações sobre cada animal que está sob seus cuidados. As informações que devem ser armazenadas para cada animal são:\n",
    "\n",
    "1. **Nome** do animal (string)\n",
    "2. **Espécie** do animal (string, por exemplo, \"cachorro\", \"gato\", \"pássaro\")\n",
    "3. **Idade** do animal (inteiro)\n",
    "4. **Peso** do animal (float)\n",
    "5. **Dono** (string)\n",
    "\n",
    "Você deve criar uma lista de listas, onde cada sublista representa um animal e contém as informações na ORDEM acima(`['Nome', 'Espécie', 'Idade', 'Peso', 'Dono']`). O programa deve realizar as seguintes **FUNÇÔES**:\n",
    "\n",
    "1. **Adicionar novos animais** ao sistema.\n",
    "2. **Remover um animal** do sistema pelo nome.\n",
    "3. **Exibir todos os animais** cadastrados com suas informações.\n",
    "4. **Buscar e exibir as informações de um animal** específico pelo nome.\n",
    "5. **Buscar e exibir as informações de todos os animais** do mesmo dono pelo nome do dono.\n",
    "6. **Atualizar as informações** de um animal existente (pelo nome).\n",
    "\n",
    "\n",
    "A lista inicial de animais cadastrados é a seguinte:\n",
    "```python\n",
    "animais = [\n",
    "    [\"Koda\", \"cachorro\", 6, 18, \"Carlos\"], #omelhorcachorro\n",
    "    [\"Murphy\", \"gato\", 6, 5, \"Juliana\"],\n",
    "]\n",
    "```\n",
    "\n",
    "**Dicas:**\n",
    "\n",
    "- Utilize operações de lista como `append`, `remove` e indexação para realizar as tarefas.\n",
    "- Utilize loops `for` para iterar sobre a lista e exibir os dados.\n",
    "- Utilize condições `if` para buscar e atualizar informações específicas.\n",
    "\n",
    "\n",
    "**Bonus**:\n",
    "\n",
    "- Responsa à pergunta? Este sistema é capaz de lidar com dois animais com o mesmo, mas de donos de diferetes, e ainda assim conseguir realizar as operações? Justifique sua respostas (Não é necessário escrever código e nem alterar o sistema)"
   ]
  },
  {
   "cell_type": "code",
   "execution_count": null,
   "metadata": {},
   "outputs": [],
   "source": [
    "def adicionar_animal():\n",
    "    pass\n",
    "\n",
    "def remover_animal():\n",
    "    pass\n",
    "\n",
    "def exibir_todos_os_animal():\n",
    "    pass\n",
    "\n",
    "def buscar_animal_pelo_nome():\n",
    "    pass\n",
    "\n",
    "def buscar_animais_do_dono():\n",
    "    pass\n",
    "\n",
    "def atualizar_animal():\n",
    "    pass"
   ]
  }
 ],
 "metadata": {
  "language_info": {
   "name": "python"
  }
 },
 "nbformat": 4,
 "nbformat_minor": 2
}
