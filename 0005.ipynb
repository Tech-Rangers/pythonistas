{
 "cells": [
  {
   "cell_type": "markdown",
   "metadata": {},
   "source": [
    "## Aula 0005\n",
    "\n",
    "- recap\n",
    "- enumerate\n",
    "- listas de listas (╯°□°)╯︵ ┻━┻\n",
    "- funções\n",
    "\n"
   ]
  },
  {
   "cell_type": "code",
   "execution_count": 14,
   "metadata": {},
   "outputs": [
    {
     "name": "stdout",
     "output_type": "stream",
     "text": [
      "O index do livro Harry Potter e o Cálice de Fogo é 0\n",
      "O index do livro Harry Potter e a Ordem da Fênix é 1\n",
      "O index do livro O Hobbit é 2\n",
      "O index do livro Harry Potter e as Relíquias da Morte é 3\n",
      "O index do livro O Silmarillion é 4\n",
      "O index do livro Eclipse é 5\n",
      "O index do livro Os Filhos de Húrin é 6\n",
      "O index do livro Amanhecer é 7\n",
      "O index do livro Contos Inacabados é 8\n",
      "O index do livro Harry Potter e a Câmara Secreta é 9\n",
      "O index do livro Harry Potter e a Pedra Filosofal é 10\n",
      "O index do livro Harry Potter e o Enigma do Príncipe é 11\n",
      "O index do livro Lua Nova é 12\n",
      "O index do livro As Duas Torres é 13\n",
      "O index do livro A Sociedade do Anel é 14\n",
      "O index do livro O Retorno do Rei é 15\n",
      "O index do livro Crepúsculo é 16\n",
      "O index do livro Harry Potter e o Prisioneiro de Azkaban é 17\n"
     ]
    }
   ],
   "source": [
    "import random \n",
    "livros = [\n",
    "    \"Harry Potter e a Pedra Filosofal\",\n",
    "    \"Harry Potter e a Câmara Secreta\",\n",
    "    \"Harry Potter e o Prisioneiro de Azkaban\",\n",
    "    \"Harry Potter e o Cálice de Fogo\",\n",
    "    \"Harry Potter e a Ordem da Fênix\",\n",
    "    \"Harry Potter e o Enigma do Príncipe\",\n",
    "    \"Harry Potter e as Relíquias da Morte\",\n",
    "    \"O Hobbit\",\n",
    "    \"A Sociedade do Anel\",\n",
    "    \"As Duas Torres\",\n",
    "    \"O Retorno do Rei\",\n",
    "    \"O Silmarillion\",\n",
    "    \"Contos Inacabados\",\n",
    "    \"Os Filhos de Húrin\",\n",
    "    \"Crepúsculo\",\n",
    "    \"Lua Nova\",\n",
    "    \"Eclipse\",\n",
    "    \"Amanhecer\"\n",
    "]\n",
    "\n",
    "# Embaralhando os livros\n",
    "random.shuffle(livros)\n",
    "\n",
    "for index, livro in enumerate(livros):\n",
    "    print(f\"O index do livro {livro} é {index}\")"
   ]
  },
  {
   "cell_type": "code",
   "execution_count": 17,
   "metadata": {},
   "outputs": [
    {
     "name": "stdout",
     "output_type": "stream",
     "text": [
      "Os indíces dos livros de harry potter são\n",
      "- Harry Potter e o Cálice de Fogo\n",
      "- Harry Potter e a Ordem da Fênix\n",
      "- Harry Potter e as Relíquias da Morte\n",
      "- Harry Potter e a Câmara Secreta\n",
      "- Harry Potter e a Pedra Filosofal\n",
      "- Harry Potter e o Enigma do Príncipe\n",
      "- Harry Potter e o Prisioneiro de Azkaban\n"
     ]
    }
   ],
   "source": [
    "hp_livros = []\n",
    "\n",
    "for index, livro in enumerate(livros):\n",
    "    if 'Harry Potter' in livro:\n",
    "        hp_livros.append(livro)\n",
    "\n",
    "print(f\"Os indíces dos livros de harry potter são\")\n",
    "for livro in hp_livros:\n",
    "    print(f\"- {livro}\")"
   ]
  },
  {
   "cell_type": "code",
   "execution_count": 33,
   "metadata": {},
   "outputs": [],
   "source": [
    "### Functions\n",
    "\n",
    "livros_com_autor = [\n",
    "    \"JK Rowling, Harry Potter e a Pedra Filosofal\",\n",
    "    \"JK Rowling, Harry Potter e a Câmara Secreta\",\n",
    "    \"JK Rowling, Harry Potter e o Prisioneiro de Azkaban\",\n",
    "    \"JK Rowling, Harry Potter e o Cálice de Fogo\",\n",
    "    \"JK Rowling, Harry Potter e a Ordem da Fênix\",\n",
    "    \"JK Rowling, Harry Potter e o Enigma do Príncipe\",\n",
    "    \"JK Rowling, Harry Potter e as Relíquias da Morte\",\n",
    "    \"Tolkien, O Hobbit\",\n",
    "    \"Tolkien, A Sociedade do Anel\",\n",
    "    \"Tolkien, As Duas Torres\",\n",
    "    \"Tolkien, O Retorno do Rei\",\n",
    "    \"Tolkien, O Silmarillion\",\n",
    "    \"Tolkien, Contos Inacabados\",\n",
    "    \"Tolkien, Os Filhos de Húrin\",\n",
    "    \"Stephanie Meyer ,Crepúsculo\",\n",
    "    \"Stephanie Meyer ,Lua Nova\",\n",
    "    \"Stephanie Meyer ,Eclipse\",\n",
    "    \"Stephanie Meyer ,Amanhecer\"\n",
    "]\n",
    "\n",
    "\n",
    "def encontra_livro_autor(nome_do_author, editora):\n",
    "    livros_encontrados = []\n",
    "\n",
    "    for index, livro in enumerate(livros_com_autor):\n",
    "        autor_do_livro, nome_do_livro = livro.split(',')\n",
    "        if nome_do_author in autor_do_livro:\n",
    "            livros_encontrados.append(f\"O livro {nome_do_livro} possui index {index}\")\n",
    "\n",
    "    for livro in livros_encontrados:\n",
    "        print(f\"- {livro}\")\n",
    "\n",
    "encontra_livro_autor('JK')"
   ]
  },
  {
   "cell_type": "code",
   "execution_count": 41,
   "metadata": {},
   "outputs": [
    {
     "name": "stdout",
     "output_type": "stream",
     "text": [
      "O valor da linha é [1, 2, 3]\n",
      "O valor da coluna nesta linha é 2\n",
      "Novo valor da lista coluna [2]\n",
      "\n",
      " ============================== \n",
      "\n",
      "O valor da linha é [4, 5, 6]\n",
      "O valor da coluna nesta linha é 5\n",
      "Novo valor da lista coluna [2, 5]\n",
      "\n",
      " ============================== \n",
      "\n",
      "O valor da linha é [7, 8, 9]\n",
      "O valor da coluna nesta linha é 8\n",
      "Novo valor da lista coluna [2, 5, 8]\n",
      "\n",
      " ============================== \n",
      "\n",
      "[2, 5, 8]\n"
     ]
    }
   ],
   "source": [
    "## Lista de Listas\n",
    "\n",
    "matrix = [\n",
    "    [1,2,3],\n",
    "    [4,5,6],\n",
    "    [7,8,9],\n",
    "]\n",
    "\n",
    "# print(lista_de_listas[0][1], lista_de_listas[1][1], lista_de_listas[2][1])\n",
    "coluna = []\n",
    "for linha in matrix:\n",
    "    print(f\"O valor da linha é {linha}\")\n",
    "    print(f\"O valor da coluna nesta linha é {linha[1]}\")\n",
    "    coluna.append(linha[1])\n",
    "\n",
    "    print(f'Novo valor da lista coluna {coluna}')\n",
    "    print(\"\\n\",'='*30, \"\\n\")\n",
    "\n",
    "print(coluna)"
   ]
  },
  {
   "cell_type": "markdown",
   "metadata": {},
   "source": [
    "### Desafio\n",
    "\n",
    "\n",
    "### Gerenciamento de Animais em um Pet Shop\n",
    "\n",
    "Você foi contratado por um Pet Shop para desenvolver um programa em Python que ajude a gerenciar os animais e seus dados. O Pet Shop deseja manter uma lista organizada com informações sobre cada animal que está sob seus cuidados. As informações que devem ser armazenadas para cada animal são:\n",
    "\n",
    "1. **Nome** do animal (string)\n",
    "2. **Espécie** do animal (string, por exemplo, \"cachorro\", \"gato\", \"pássaro\")\n",
    "3. **Idade** do animal (inteiro)\n",
    "4. **Peso** do animal (float)\n",
    "5. **Dono** (string)\n",
    "\n",
    "Você deve criar uma lista de listas, onde cada sublista representa um animal e contém as informações na ORDEM acima(`['Nome', 'Espécie', 'Idade', 'Peso', 'Dono']`). O programa deve realizar as seguintes **FUNÇÔES**:\n",
    "\n",
    "1. **Adicionar novos animais** ao sistema.\n",
    "2. **Remover um animal** do sistema pelo nome.\n",
    "3. **Exibir todos os animais** cadastrados com suas informações.\n",
    "4. **Buscar e exibir as informações de um animal** específico pelo nome.\n",
    "5. **Buscar e exibir as informações de todos os animais** do mesmo dono pelo nome do dono.\n",
    "6. **Atualizar as informações** de um animal existente (pelo nome).\n",
    "\n",
    "\n",
    "A lista inicial de animais cadastrados é a seguinte:\n",
    "```python\n",
    "animais = [\n",
    "    [\"Koda\", \"cachorro\", 6, 18, \"Carlos\"], #omelhorcachorro\n",
    "    [\"Murphy\", \"gato\", 6, 5, \"Juliana\"],\n",
    "]\n",
    "```\n",
    "\n",
    "**Dicas:**\n",
    "\n",
    "- Utilize operações de lista como `append`, `remove` e indexação para realizar as tarefas.\n",
    "- Utilize loops `for` para iterar sobre a lista e exibir os dados.\n",
    "- Utilize condições `if` para buscar e atualizar informações específicas.\n",
    "\n",
    "\n",
    "**Bonus**:\n",
    "\n",
    "- Responda à pergunta? Este sistema é capaz de lidar com dois animais com o mesmo, mas de donos de diferetes, e ainda assim conseguir realizar as operações? Justifique sua respostas (Não é necessário escrever código e nem alterar o sistema)"
   ]
  },
  {
   "cell_type": "code",
   "execution_count": null,
   "metadata": {},
   "outputs": [],
   "source": [
    "def adicionar_animal():\n",
    "    pass\n",
    "\n",
    "def remover_animal():\n",
    "    pass\n",
    "\n",
    "def exibir_todos_os_animal():\n",
    "    pass\n",
    "\n",
    "def buscar_animal_pelo_nome():\n",
    "    pass\n",
    "\n",
    "def buscar_animais_do_dono():\n",
    "    pass\n",
    "\n",
    "def atualizar_animal():\n",
    "    pass"
   ]
  }
 ],
 "metadata": {
  "kernelspec": {
   "display_name": ".venv",
   "language": "python",
   "name": "python3"
  },
  "language_info": {
   "codemirror_mode": {
    "name": "ipython",
    "version": 3
   },
   "file_extension": ".py",
   "mimetype": "text/x-python",
   "name": "python",
   "nbconvert_exporter": "python",
   "pygments_lexer": "ipython3",
   "version": "3.12.3"
  }
 },
 "nbformat": 4,
 "nbformat_minor": 2
}
