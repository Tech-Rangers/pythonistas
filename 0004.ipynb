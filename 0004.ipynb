{
 "cells": [
  {
   "cell_type": "markdown",
   "metadata": {},
   "source": [
    "## Aula 0004\n",
    "\n",
    "- Explorando índices de listas\n"
   ]
  },
  {
   "cell_type": "code",
   "execution_count": null,
   "metadata": {},
   "outputs": [],
   "source": [
    "livros_harry_potter = [\n",
    "    \"Harry Potter e a Pedra Filosofal\",\n",
    "    \"Harry Potter e a Câmara Secreta\",\n",
    "    \"Harry Potter e o Prisioneiro de Azkaban\",\n",
    "    \"Harry Potter e o Cálice de Fogo\",\n",
    "    \"Harry Potter e a Ordem da Fênix\",\n",
    "    \"Harry Potter e o Enigma do Príncipe\",\n",
    "    \"Harry Potter e as Relíquias da Morte\"\n",
    "]\n",
    "\n",
    "livros_tolkien = [\n",
    "    \"O Hobbit\",\n",
    "    \"A Sociedade do Anel\",\n",
    "    \"As Duas Torres\",\n",
    "    \"O Retorno do Rei\",\n",
    "    \"O Silmarillion\",\n",
    "    \"Contos Inacabados\",\n",
    "    \"Os Filhos de Húrin\"\n",
    "]\n",
    "\n",
    "livros_twilight = [\n",
    "    \"Crepúsculo\",\n",
    "    \"Lua Nova\",\n",
    "    \"Eclipse\",\n",
    "    \"Amanhecer\"\n",
    "]\n"
   ]
  },
  {
   "cell_type": "markdown",
   "metadata": {},
   "source": [
    "### Exercícios\n",
    "\n",
    "- Como obter o primeiro livro de cada lista?\n",
    "- Como obter o segundo e o terceiro livro?\n",
    "- Como obter o último e o penúltimo livro?\n",
    "- Quantos livros cada lista possui?\n",
    "- Como obter o livro do meio?\n",
    "- Adicionando um livro\n",
    "- Excluindo um livro\n",
    "- Ordenando os livros"
   ]
  },
  {
   "cell_type": "code",
   "execution_count": null,
   "metadata": {},
   "outputs": [],
   "source": []
  },
  {
   "cell_type": "markdown",
   "metadata": {},
   "source": [
    "## Desafio \n",
    "\n",
    "### Aluguel e Devolução de Livros\n",
    "\n",
    "Nossa biblioteca contém 3 listas de livros:\n",
    "\n",
    "- Saga Harry Potter\n",
    "- Mundo de Tolkien\n",
    "- Saga Crepúsculo\n",
    "\n",
    "10 pessoas irão alugar os livros: Ana, Bruno, Carlos, Diana, Eduardo, Fernanda, Gustavo, Helena, Igor e Julia.\n",
    "\n",
    "Cada pessoa tentará alugar um livro aleatoriamente de tal forma que:\n",
    "- Se o livro estiver disponível, ele será removido da lista de livros disponíveis.\n",
    "- Se o livro já estiver alugado, uma mensagem de erro será exibida, pedindo desculpa pois o livro está em falta, e a próxima pessoa tentará alugar.\n",
    "- Após todos os aluguéis, os livros serão devolvidos.\n",
    "- Para cada devolução, a biblioteca recebe 10 unidades de uma moeda fictícia.\n",
    "\n",
    "Preencha o código para calcular o saldo final da biblioteca após todas as devoluções.\n",
    "\n",
    "\n",
    "### DICA\n",
    "\n",
    "Utilize a função `sorted_livro` para determinar qual livro a pessoa irá alugar\n"
   ]
  },
  {
   "cell_type": "code",
   "execution_count": null,
   "metadata": {},
   "outputs": [],
   "source": [
    "import random \n",
    "\n",
    "livros_harry_potter = [\n",
    "    \"Harry Potter e a Pedra Filosofal\",\n",
    "    \"Harry Potter e a Câmara Secreta\",\n",
    "    \"Harry Potter e o Prisioneiro de Azkaban\",\n",
    "    \"Harry Potter e o Cálice de Fogo\",\n",
    "    \"Harry Potter e a Ordem da Fênix\",\n",
    "    \"Harry Potter e o Enigma do Príncipe\",\n",
    "    \"Harry Potter e as Relíquias da Morte\"\n",
    "]\n",
    "\n",
    "livros_tolkien = [\n",
    "    \"O Hobbit\",\n",
    "    \"A Sociedade do Anel\",\n",
    "    \"As Duas Torres\",\n",
    "    \"O Retorno do Rei\",\n",
    "    \"O Silmarillion\",\n",
    "    \"Contos Inacabados\",\n",
    "    \"Os Filhos de Húrin\"\n",
    "]\n",
    "\n",
    "livros_twilight = [\n",
    "    \"Crepúsculo\",\n",
    "    \"Lua Nova\",\n",
    "    \"Eclipse\",\n",
    "    \"Amanhecer\"\n",
    "]\n",
    "\n",
    "pessoas = [\"Ana\", \"Bruno\", \"Carlos\", \"Diana\", \"Eduardo\", \"Fernanda\", \"Gustavo\", \"Helena\", \"Igor\", \"Julia\"]\n",
    "saldo = 0\n",
    "\n",
    "\n",
    "def sortear_livro(livros: list[str]) -> str:\n",
    "    return random.choice(livros)\n",
    "\n",
    "\n",
    "def alugar_livros():\n",
    "    # preencher desafio aqui\n",
    "    pass\n",
    "\n",
    "\n",
    "alugar_livros()\n",
    "print(f\"Saldo final da biblioteca é de R$ {saldo:.2f}\")"
   ]
  }
 ],
 "metadata": {
  "kernelspec": {
   "display_name": ".venv",
   "language": "python",
   "name": "python3"
  },
  "language_info": {
   "codemirror_mode": {
    "name": "ipython",
    "version": 3
   },
   "file_extension": ".py",
   "mimetype": "text/x-python",
   "name": "python",
   "nbconvert_exporter": "python",
   "pygments_lexer": "ipython3",
   "version": "3.12.3"
  }
 },
 "nbformat": 4,
 "nbformat_minor": 2
}
