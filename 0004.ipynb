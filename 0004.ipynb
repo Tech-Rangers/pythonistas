{
 "cells": [
  {
   "cell_type": "markdown",
   "metadata": {},
   "source": [
    "## Aula 0004\n",
    "\n",
    "- Explorando índices de listas\n"
   ]
  },
  {
   "cell_type": "code",
   "execution_count": 7,
   "metadata": {},
   "outputs": [],
   "source": [
    "livros_harry_potter = [\n",
    "    \"Harry Potter e a Pedra Filosofal\",\n",
    "    \"Harry Potter e a Câmara Secreta\",\n",
    "    \"Harry Potter e o Prisioneiro de Azkaban\",\n",
    "    \"Harry Potter e o Cálice de Fogo\",\n",
    "    \"Harry Potter e a Ordem da Fênix\",\n",
    "    \"Harry Potter e o Enigma do Príncipe\",\n",
    "    \"Harry Potter e as Relíquias da Morte\"\n",
    "]\n",
    "\n",
    "livros_tolkien = [\n",
    "    \"O Hobbit\",\n",
    "    \"A Sociedade do Anel\",\n",
    "    \"As Duas Torres\",\n",
    "    \"O Retorno do Rei\",\n",
    "    \"O Silmarillion\",\n",
    "    \"Contos Inacabados\",\n",
    "    \"Os Filhos de Húrin\"\n",
    "]\n",
    "\n",
    "livros_twilight = [\n",
    "    \"Crepúsculo\",\n",
    "    \"Lua Nova\",\n",
    "    \"Eclipse\",\n",
    "    \"Amanhecer\"\n",
    "]\n"
   ]
  },
  {
   "cell_type": "markdown",
   "metadata": {},
   "source": [
    "### Exercícios\n",
    "\n",
    "- Como obter o primeiro livro de cada lista?\n",
    "- Como obter o segundo e o terceiro livro?\n",
    "- Como obter o último e o penúltimo livro?\n",
    "- Quantos livros cada lista possui?\n",
    "- Como obter o livro do meio?\n",
    "- Adicionando um livro\n",
    "- Excluindo um livro\n",
    "- Ordenando os livros"
   ]
  },
  {
   "cell_type": "code",
   "execution_count": 13,
   "metadata": {},
   "outputs": [
    {
     "name": "stdout",
     "output_type": "stream",
     "text": [
      "Os primeiros livros de cada saga são: Harry Potter e a Pedra Filosofal, O Hobbit e Crepúsculo\n"
     ]
    }
   ],
   "source": [
    "# Primeiro livro\n",
    "\n",
    "\n",
    "print(f\"Os primeiros livros de cada saga são: {livros_harry_potter[0]}, {livprimeiro_livro_hp = livros_harry_potter[0]ros_tolkien[0]} e {livros_twilight[0]}\")"
   ]
  },
  {
   "cell_type": "code",
   "execution_count": 18,
   "metadata": {},
   "outputs": [
    {
     "name": "stdout",
     "output_type": "stream",
     "text": [
      "Os segundos livros de cada saga são: Harry Potter e a Câmara Secreta, A Sociedade do Anel e Lua Nova\n"
     ]
    }
   ],
   "source": [
    "# segundo livro\n",
    "segundo_livro_hp = livros_harry_potter[1]\n",
    "\n",
    "print(f\"Os segundos livros de cada saga são: {livros_harry_potter[1]}, {livros_tolkien[1]} e {livros_twilight[1]}\")"
   ]
  },
  {
   "cell_type": "code",
   "execution_count": 26,
   "metadata": {},
   "outputs": [
    {
     "name": "stdout",
     "output_type": "stream",
     "text": [
      "Os quintos livros de cada saga são: Harry Potter e a Ordem da Fênix, O Silmarillion\n",
      "O ultimo livro do Twilight é Amanhecer\n"
     ]
    }
   ],
   "source": [
    "# mini challenge\n",
    "quinto_livro_hp = livros_harry_potter[4]\n",
    "print(f\"Os quintos livros de cada saga são: {livros_harry_potter[4]}, {livros_tolkien[4]}\")\n",
    "\n",
    "ultimo_livro_tw = livros_twilight[3]\n",
    "print(f'O ultimo livro do Twilight é {ultimo_livro_tw}')"
   ]
  },
  {
   "cell_type": "code",
   "execution_count": 36,
   "metadata": {},
   "outputs": [
    {
     "name": "stdout",
     "output_type": "stream",
     "text": [
      "Harry Potter e as Relíquias da Morte\n",
      "O número de livro da saga tolkien é: 7\n",
      "O ultimo livro do tolkien é Os Filhos de Húrin\n",
      "O último livro de twilight é: Amanhecer\n"
     ]
    }
   ],
   "source": [
    "# último livro\n",
    "\n",
    "ultimo_livro_hp = livros_harry_potter[-1]\n",
    "print(ultimo_livro_hp)\n",
    "\n",
    "# len quantidade de itens da lista\n",
    "\n",
    "numero_de_livros = len(livros_tolkien)\n",
    "print(f\"O número de livro da saga tolkien é: {numero_de_livros}\")\n",
    "\n",
    "ultimo_livro_tolk = livros_tolkien[numero_de_livros-1]\n",
    "print(f'O ultimo livro do tolkien é {ultimo_livro_tolk}')\n",
    "\n",
    "# como  fazer sem o len\n",
    "counter = 0\n",
    "for livro in livros_twilight:\n",
    "    counter = counter + 1\n",
    "ultimo_livro_tw = livros_twilight[counter-1]\n",
    "print(f\"O último livro de twilight é: {ultimo_livro_tw}\")"
   ]
  },
  {
   "cell_type": "code",
   "execution_count": 49,
   "metadata": {},
   "outputs": [
    {
     "name": "stdout",
     "output_type": "stream",
     "text": [
      "O penúltimo livro de twilight é: Eclipse\n",
      "O penultimo livro do twilight é Eclipse\n",
      "Eclipse\n"
     ]
    }
   ],
   "source": [
    "# penúltimo\n",
    "counter = 0\n",
    "for livro in livros_twilight:\n",
    "    counter = counter + 1\n",
    "penultimo_livro_tw = livros_twilight[counter-2]\n",
    "print(f\"O penúltimo livro de twilight é: {penultimo_livro_tw}\")\n",
    "\n",
    "\n",
    "#com len\n",
    "numero_de_livros = len(livros_twilight)\n",
    "penultimo_livro_tw = livros_twilight[numero_de_livros-2]\n",
    "print(f'O penultimo livro do twilight é {penultimo_livro_tw}')\n",
    "\n",
    "#simples\n",
    "penultimo_livro_tw = livros_twilight[-2]\n",
    "print(penultimo_livro_tw)\n"
   ]
  },
  {
   "cell_type": "code",
   "execution_count": 50,
   "metadata": {},
   "outputs": [
    {
     "name": "stdout",
     "output_type": "stream",
     "text": [
      "O número de livro da saga twilight é: 4\n",
      "O número de livro da saga tolkien é: 7\n",
      "O número de livro da saga HP é: 7\n"
     ]
    }
   ],
   "source": [
    "# Quantos livros cada saga possui\n",
    "numero_de_livros_tw = len(livros_twilight)\n",
    "numero_de_livros_tolk = len(livros_tolkien)\n",
    "numero_de_livros_hp = len(livros_harry_potter)\n",
    "print(f\"O número de livro da saga twilight é: {numero_de_livros_tw}\")\n",
    "print(f\"O número de livro da saga tolkien é: {numero_de_livros_tolk}\")\n",
    "print(f\"O número de livro da saga harry_potter é: {numero_de_livros_hp}\")"
   ]
  },
  {
   "cell_type": "code",
   "execution_count": null,
   "metadata": {},
   "outputs": [],
   "source": [
    "# Qual o livro do meio?\n",
    "\n",
    "counter = 0\n",
    "for livro in livros_twilight:\n",
    "    counter = (counter + 1)\n",
    "\n",
    "meio_livro_tw = counter # FIX THIS\n",
    "print(f\"O do meio livro de twilight é: {meio_livro_tw}\")\n"
   ]
  },
  {
   "cell_type": "markdown",
   "metadata": {},
   "source": [
    "## Desafio \n",
    "\n",
    "### Aluguel e Devolução de Livros\n",
    "\n",
    "Nossa biblioteca contém 3 listas de livros:\n",
    "\n",
    "- Saga Harry Potter\n",
    "- Mundo de Tolkien\n",
    "- Saga Crepúsculo\n",
    "\n",
    "10 pessoas irão alugar os livros: Ana, Bruno, Carlos, Diana, Eduardo, Fernanda, Gustavo, Helena, Igor e Julia.\n",
    "\n",
    "Cada pessoa tentará alugar um livro aleatoriamente de tal forma que:\n",
    "- Se o livro estiver disponível, ele será removido da lista de livros disponíveis.\n",
    "- Se o livro já estiver alugado, uma mensagem de erro será exibida, pedindo desculpa pois o livro está em falta, e a próxima pessoa tentará alugar.\n",
    "- Após todos os aluguéis, os livros serão devolvidos.\n",
    "- Para cada devolução, a biblioteca recebe 10 unidades de uma moeda fictícia.\n",
    "\n",
    "Preencha o código para calcular o saldo final da biblioteca após todas as devoluções.\n",
    "\n",
    "\n",
    "### DICA\n",
    "\n",
    "Utilize a função `sortear_livro` para determinar qual livro a pessoa irá alugar\n"
   ]
  },
  {
   "cell_type": "code",
   "execution_count": null,
   "metadata": {},
   "outputs": [],
   "source": [
    "import random \n",
    "\n",
    "livros_harry_potter = [\n",
    "    \"Harry Potter e a Pedra Filosofal\",\n",
    "    \"Harry Potter e a Câmara Secreta\",\n",
    "    \"Harry Potter e o Prisioneiro de Azkaban\",\n",
    "    \"Harry Potter e o Cálice de Fogo\",\n",
    "    \"Harry Potter e a Ordem da Fênix\",\n",
    "    \"Harry Potter e o Enigma do Príncipe\",\n",
    "    \"Harry Potter e as Relíquias da Morte\"\n",
    "]\n",
    "\n",
    "livros_tolkien = [\n",
    "    \"O Hobbit\",\n",
    "    \"A Sociedade do Anel\",\n",
    "    \"As Duas Torres\",\n",
    "    \"O Retorno do Rei\",\n",
    "    \"O Silmarillion\",\n",
    "    \"Contos Inacabados\",\n",
    "    \"Os Filhos de Húrin\"\n",
    "]\n",
    "\n",
    "livros_twilight = [\n",
    "    \"Crepúsculo\",\n",
    "    \"Lua Nova\",\n",
    "    \"Eclipse\",\n",
    "    \"Amanhecer\"\n",
    "]\n",
    "\n",
    "pessoas = [\"Ana\", \"Bruno\", \"Carlos\", \"Diana\", \"Eduardo\", \"Fernanda\", \"Gustavo\", \"Helena\", \"Igor\", \"Julia\"]\n",
    "saldo = 0\n",
    "\n",
    "\n",
    "def sortear_livro(livros: list[str]) -> str:\n",
    "    return random.choice(livros)\n",
    "\n",
    "\n",
    "def alugar_livros():\n",
    "    # preencher desafio aqui\n",
    "    pass\n",
    "\n",
    "\n",
    "alugar_livros()\n",
    "print(f\"Saldo final da biblioteca é de R$ {saldo:.2f}\")"
   ]
  }
 ],
 "metadata": {
  "kernelspec": {
   "display_name": ".venv",
   "language": "python",
   "name": "python3"
  },
  "language_info": {
   "codemirror_mode": {
    "name": "ipython",
    "version": 3
   },
   "file_extension": ".py",
   "mimetype": "text/x-python",
   "name": "python",
   "nbconvert_exporter": "python",
   "pygments_lexer": "ipython3",
   "version": "3.12.3"
  }
 },
 "nbformat": 4,
 "nbformat_minor": 2
}
