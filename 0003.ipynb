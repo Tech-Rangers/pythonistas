{
 "cells": [
  {
   "cell_type": "markdown",
   "metadata": {},
   "source": [
    "## Lesson 0003\n",
    "\n",
    " - quick recap lesson 0002 challenge\n",
    " - formatted print padding and colors\n",
    " - list append and pop elements"
   ]
  },
  {
   "cell_type": "markdown",
   "metadata": {},
   "source": [
    "### Marking printed messages prettier"
   ]
  },
  {
   "cell_type": "code",
   "execution_count": 66,
   "metadata": {},
   "outputs": [
    {
     "name": "stdout",
     "output_type": "stream",
     "text": [
      "|      Hello Pythonistas       |\n"
     ]
    }
   ],
   "source": [
    "message = ' Hello Pythonistas '\n",
    "fill = \"\"\n",
    "align = \"^\" # ['<', '>', '^'] \n",
    "width = 30\n",
    "print(f'|{message:{fill}{align}{width}}|')\n"
   ]
  },
  {
   "cell_type": "code",
   "execution_count": 67,
   "metadata": {},
   "outputs": [
    {
     "name": "stdout",
     "output_type": "stream",
     "text": [
      "\u001b[32mestou armando vocês\n"
     ]
    }
   ],
   "source": [
    "def print_in_red(message: str) -> None:\n",
    "    print(f'\\33[31m{message}')\n",
    "\n",
    "def print_in_green(message: str) -> None:\n",
    "    print(f'\\33[32m{message}')\n",
    "\n",
    "print_in_green('estou armando vocês')"
   ]
  },
  {
   "cell_type": "code",
   "execution_count": 68,
   "metadata": {},
   "outputs": [
    {
     "name": "stdout",
     "output_type": "stream",
     "text": [
      "['Mia', 'Michael']\n"
     ]
    }
   ],
   "source": [
    "alunos = [\"Alice\", \"Bob\", \"Charlie\", \"David\", \"Eve\", \"Frank\", \"Grace\", \"Henry\", \"Isabel\", \"Jack\",\n",
    "            \"Katie\", \"Liam\", \"Mia\", \"Noah\", \"Olivia\", \"Patrick\", \"Quinn\", \"Rachel\", \"Sam\", \"Tina\",\n",
    "            \"Ursula\", \"Victor\", \"Wendy\", \"Xander\", \"Yvonne\", \"Zack\", \"Amelia\", \"Ben\", \"Catherine\", \"Daniel\",\n",
    "            \"Emma\", \"Finn\", \"Gabriella\", \"Hannah\", \"Ian\", \"Jessica\", \"Kevin\", \"Lily\", \"Michael\", \"Nora\"]\n",
    "\n",
    "alunos_filtrados = []\n",
    "for aluno in alunos:\n",
    "    if 'M' in aluno:\n",
    "        alunos_filtrados.append(aluno)\n",
    "print(alunos_filtrados)"
   ]
  },
  {
   "cell_type": "markdown",
   "metadata": {},
   "source": [
    "### NOVO Desafio\n",
    "\n",
    "NOTA: este é o mesmo desafio da aula 0003 com alguns pequenos acréscimos\n",
    "\n",
    "Como professor, você é responsável por 40 alunos. Os alunos acabaram de fazer um teste e agora você tem as notas dos 40 alunos.\n",
    "Você quer exibir uma tabela com o **nome** do aluno, a **nota** e o **status**, onde o status indica se o aluno passou no teste ou não.\n",
    "\n",
    "Use o conhecimento de loops for, impressão formatada e declarações if para construir esta tabela que será exibida na saída do notebook Python.\n",
    "\n",
    "Siga estes requisitos da aula 0002:\n",
    " - a tabela deve ter um cabeçalho com as três colunas\n",
    " - cada linha corresponde a um aluno\n",
    " - as notas são números float de 0 a 10, com uma precisão de uma casa decimal\n",
    " - a nota de aprovação do teste é 5\n",
    " - os `students` e `grades` já estão ordenados de forma que *o **students[i]** tem **grades[i]***\n",
    " - adicione uma linha final com a **média da turma**\n",
    " \n",
    "Novos requisitos da aula 0003:\n",
    " - ajuste o preenchimento das colunas para que todas as colunas sejam impressas com a mesma largura\n",
    " - se um aluno passou, deve ser mostrado na tabela como **PASSED** em verde\n",
    " - se um aluno NÃO passou, deve ser mostrado na tabela como **FAILED** em vermelho\n",
    " - imprima a lista de nomes dos alunos que NÃO passaram no final, para que possamos enviar uma carta para seus pais :evil:\n",
    "\n",
    "#### Dica de preenchimento de impressão formatada\n",
    " - `i:<10` => justifica o texto à esquerda dentro de uma largura de 10 caracteres\n",
    " - `i:>10` => justifica o texto à direita dentro de uma largura de 10 caracteres\n",
    " - `i:^10` => justifica o texto ao centro dentro de uma largura de 10 caracteres"
   ]
  },
  {
   "cell_type": "code",
   "execution_count": null,
   "metadata": {},
   "outputs": [],
   "source": [
    "import random\n",
    "\n",
    "alunos = [\"Alice\", \"Bob\", \"Charlie\", \"David\", \"Eve\", \"Frank\", \"Grace\", \"Henry\", \"Isabel\", \"Jack\",\n",
    "            \"Katie\", \"Liam\", \"Mia\", \"Noah\", \"Olivia\", \"Patrick\", \"Quinn\", \"Rachel\", \"Sam\", \"Tina\",\n",
    "            \"Ursula\", \"Victor\", \"Wendy\", \"Xander\", \"Yvonne\", \"Zack\", \"Amelia\", \"Ben\", \"Catherine\", \"Daniel\",\n",
    "            \"Emma\", \"Finn\", \"Gabriella\", \"Hannah\", \"Ian\", \"Jessica\", \"Kevin\", \"Lily\", \"Michael\"]\n",
    "grades = [round(random.uniform(0, 10), 1) for _ in range(40)]\n",
    "\n",
    "def print_in_red(message: str) -> None:\n",
    "    print(f'\\33[31m{message}')\n",
    "\n",
    "def print_in_green(message: str) -> None:\n",
    "    print(f'\\33[32m{message}')"
   ]
  }
 ],
 "metadata": {
  "kernelspec": {
   "display_name": ".venv",
   "language": "python",
   "name": "python3"
  },
  "language_info": {
   "codemirror_mode": {
    "name": "ipython",
    "version": 3
   },
   "file_extension": ".py",
   "mimetype": "text/x-python",
   "name": "python",
   "nbconvert_exporter": "python",
   "pygments_lexer": "ipython3",
   "version": "3.12.3"
  }
 },
 "nbformat": 4,
 "nbformat_minor": 2
}
