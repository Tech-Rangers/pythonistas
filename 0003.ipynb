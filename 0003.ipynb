{
 "cells": [
  {
   "cell_type": "markdown",
   "metadata": {},
   "source": [
    "## Lesson 0003\n",
    "\n",
    " - quick recap lesson 0002 challenge\n",
    " - formatted print padding and colors\n",
    " - list append and pop elements"
   ]
  },
  {
   "cell_type": "markdown",
   "metadata": {},
   "source": [
    "### Marking printed messages prettier"
   ]
  },
  {
   "cell_type": "code",
   "execution_count": 66,
   "metadata": {},
   "outputs": [
    {
     "name": "stdout",
     "output_type": "stream",
     "text": [
      "|      Hello Pythonistas       |\n"
     ]
    }
   ],
   "source": [
    "message = ' Hello Pythonistas '\n",
    "fill = \"\"\n",
    "align = \"^\" # ['<', '>', '^'] \n",
    "width = 30\n",
    "print(f'|{message:{fill}{align}{width}}|')\n"
   ]
  },
  {
   "cell_type": "code",
   "execution_count": 67,
   "metadata": {},
   "outputs": [
    {
     "name": "stdout",
     "output_type": "stream",
     "text": [
      "\u001b[32mestou armando vocês\n"
     ]
    }
   ],
   "source": [
    "def print_in_red(message: str) -> None:\n",
    "    print(f'\\33[31m{message}')\n",
    "\n",
    "def print_in_green(message: str) -> None:\n",
    "    print(f'\\33[32m{message}')\n",
    "\n",
    "print_in_green('estou armando vocês')"
   ]
  },
  {
   "cell_type": "code",
   "execution_count": 68,
   "metadata": {},
   "outputs": [
    {
     "name": "stdout",
     "output_type": "stream",
     "text": [
      "['Mia', 'Michael']\n"
     ]
    }
   ],
   "source": [
    "alunos = [\"Alice\", \"Bob\", \"Charlie\", \"David\", \"Eve\", \"Frank\", \"Grace\", \"Henry\", \"Isabel\", \"Jack\",\n",
    "            \"Katie\", \"Liam\", \"Mia\", \"Noah\", \"Olivia\", \"Patrick\", \"Quinn\", \"Rachel\", \"Sam\", \"Tina\",\n",
    "            \"Ursula\", \"Victor\", \"Wendy\", \"Xander\", \"Yvonne\", \"Zack\", \"Amelia\", \"Ben\", \"Catherine\", \"Daniel\",\n",
    "            \"Emma\", \"Finn\", \"Gabriella\", \"Hannah\", \"Ian\", \"Jessica\", \"Kevin\", \"Lily\", \"Michael\", \"Nora\"]\n",
    "\n",
    "alunos_filtrados = []\n",
    "for aluno in alunos:\n",
    "    if 'M' in aluno:\n",
    "        alunos_filtrados.append(aluno)\n",
    "print(alunos_filtrados)"
   ]
  },
  {
   "cell_type": "markdown",
   "metadata": {},
   "source": [
    "### NEW Challenge \n",
    "\n",
    "NOTE: this is the same challenge from lesson 0003 with some minor add-ons\n",
    "\n",
    "As a teacher, you are responsible for 40 students. The students have just taken a test and now you have their 40 grades \n",
    "You want to display a table with the students **name**, **grade** and **status**, where status indicates if the students has passed the test or not.\n",
    "\n",
    "Use the knowledge of for loops, formatted print and if statements to build this table that will be displayed in the python notebook output\n",
    "\n",
    "Follow this requirements from lesson 0002:\n",
    " - the table must have a header with the three column\n",
    " - each row corresponds to a student\n",
    " - grades are float number from 0 to 10, with one decimal precision\n",
    " - the test passing grade is 5\n",
    " - the `students` and `grades` are already sorted such as *the **students[i]** has **grades[i]***\n",
    " - add a final row with the entire class **average grade**\n",
    " \n",
    "New lesson 0003 requirements  \n",
    " - adjust column padding so all column are printed with the same width\n",
    " - if a student has passed, it should be show in table **PASSED** in green\n",
    " - if a student has NOT passed, it should be show in table **FAILED** in red\n",
    " - print the list if names of students that have NOT passed at the end, so we can send a letter for their parents :evil: \n",
    "\n",
    "#### Formatted print padding tip\n",
    " - `i:<10` => justify text to the left within 10 characters width\n",
    " - `i:>10` => justify text to the right within 10 characters width\n",
    " - `i:^10` => justify text to the center within 10 characters width"
   ]
  },
  {
   "cell_type": "code",
   "execution_count": 69,
   "metadata": {},
   "outputs": [],
   "source": [
    "# run once to setup the challenge\n",
    "import random\n",
    "\n",
    "alunos = [\"Alice\", \"Bob\", \"Charlie\", \"David\", \"Eve\", \"Frank\", \"Grace\", \"Henry\", \"Isabel\", \"Jack\",\n",
    "            \"Katie\", \"Liam\", \"Mia\", \"Noah\", \"Olivia\", \"Patrick\", \"Quinn\", \"Rachel\", \"Sam\", \"Tina\",\n",
    "            \"Ursula\", \"Victor\", \"Wendy\", \"Xander\", \"Yvonne\", \"Zack\", \"Amelia\", \"Ben\", \"Catherine\", \"Daniel\",\n",
    "            \"Emma\", \"Finn\", \"Gabriella\", \"Hannah\", \"Ian\", \"Jessica\", \"Kevin\", \"Lily\", \"Michael\"]\n",
    "grades = [round(random.uniform(0, 10), 1) for _ in range(40)]"
   ]
  },
  {
   "cell_type": "code",
   "execution_count": 78,
   "metadata": {},
   "outputs": [
    {
     "ename": "SyntaxError",
     "evalue": "incomplete input (1089611551.py, line 34)",
     "output_type": "error",
     "traceback": [
      "\u001b[0;36m  Cell \u001b[0;32mIn[78], line 34\u001b[0;36m\u001b[0m\n\u001b[0;31m    if 'status' in aluno:\u001b[0m\n\u001b[0m                         ^\u001b[0m\n\u001b[0;31mSyntaxError\u001b[0m\u001b[0;31m:\u001b[0m incomplete input\n"
     ]
    }
   ],
   "source": [
    "import random\n",
    "\n",
    "alunos = [\"Alice\", \"Bob\", \"Charlie\", \"David\", \"Eve\", \"Frank\", \"Grace\", \"Henry\", \"Isabel\", \"Jack\",\n",
    "            \"Katie\", \"Liam\", \"Mia\", \"Noah\", \"Olivia\", \"Patrick\", \"Quinn\", \"Rachel\", \"Sam\", \"Tina\",\n",
    "            \"Ursula\", \"Victor\", \"Wendy\", \"Xander\", \"Yvonne\", \"Zack\", \"Amelia\", \"Ben\", \"Catherine\", \"Daniel\",\n",
    "            \"Emma\", \"Finn\", \"Gabriella\", \"Hannah\", \"Ian\", \"Jessica\", \"Kevin\", \"Lily\", \"Michael\"]\n",
    "grades = [round(random.uniform(0, 10), 1) for _ in range(40)]\n",
    "\n",
    "\n",
    "def print_in_red(message: str) -> None:\n",
    "    print(f'\\33[31m{message}')\n",
    "\n",
    "def print_in_green(message: str) -> None:\n",
    "    print(f'\\33[32m{message}')\n",
    "\n",
    "print_in_green('aprovados')\n",
    "print_in_red('reprovados')\n",
    "\n",
    "message_1 = 'alunos'\n",
    "mes_ = 'grades'\n",
    "mess_ = 'status'\n",
    "\n",
    "fill = \"\"\n",
    "align = \"^\" \n",
    "width = 40\n",
    "print(f'|{message_1:{fill}{align}{width}}{mes_:{fill}{align}{width}}{mess_:{fill}{align}{width}}|')\n",
    "alunos_filtrados = []\n",
    " \n",
    "for alunos in notas(0,40):\n",
    "    notas = alunos[index]\n",
    "    media = (soma + notas)/6 \n",
    "        \n",
    "    if grades[index] >= 6:\n",
    "        if 'status' in aluno:"
   ]
  },
  {
   "cell_type": "code",
   "execution_count": 71,
   "metadata": {},
   "outputs": [
    {
     "ename": "NameError",
     "evalue": "name 'students' is not defined",
     "output_type": "error",
     "traceback": [
      "\u001b[0;31m---------------------------------------------------------------------------\u001b[0m",
      "\u001b[0;31mNameError\u001b[0m                                 Traceback (most recent call last)",
      "Cell \u001b[0;32mIn[71], line 6\u001b[0m\n\u001b[1;32m      4\u001b[0m         \u001b[38;5;28;01melse\u001b[39;00m:\n\u001b[1;32m      5\u001b[0m                 status \u001b[38;5;241m=\u001b[39m \u001b[38;5;124m\"\u001b[39m\u001b[38;5;124mSad but true, you reproved\u001b[39m\u001b[38;5;124m\"\u001b[39m\n\u001b[0;32m----> 6\u001b[0m         \u001b[38;5;28mprint\u001b[39m(\u001b[38;5;124mf\u001b[39m\u001b[38;5;124m\"\u001b[39m\u001b[38;5;132;01m{\u001b[39;00m\u001b[43mstudents\u001b[49m[index]\u001b[38;5;132;01m}\u001b[39;00m\u001b[38;5;124m ----- \u001b[39m\u001b[38;5;132;01m{\u001b[39;00mgrades[index]\u001b[38;5;132;01m}\u001b[39;00m\u001b[38;5;124m ------ \u001b[39m\u001b[38;5;132;01m{\u001b[39;00mstatus\u001b[38;5;132;01m}\u001b[39;00m\u001b[38;5;124m\"\u001b[39m)\n\u001b[1;32m      7\u001b[0m \u001b[38;5;28mprint\u001b[39m (\u001b[38;5;124mf\u001b[39m\u001b[38;5;124m\"\u001b[39m\u001b[38;5;124m----------------\u001b[39m\u001b[38;5;124m\"\u001b[39m) \n\u001b[1;32m      9\u001b[0m soma \u001b[38;5;241m=\u001b[39m \u001b[38;5;241m0\u001b[39m \n",
      "\u001b[0;31mNameError\u001b[0m: name 'students' is not defined"
     ]
    }
   ],
   "source": [
    "\n",
    "\n",
    "        \n",
    "for index in range(0,40):\n",
    "        if grades[index] >= 5:\n",
    "                status = 'Congratulations, you passed!'\n",
    "        else:\n",
    "                status = \"Sad but true, you reproved\"\n",
    "        print(f\"{students[index]} ----- {grades[index]} ------ {status}\")\n",
    "print (f\"----------------\") \n",
    "\n",
    "soma = 0 \n",
    "for g in grades:\n",
    "    soma = soma + g\n",
    "media =soma/40\n",
    "if media >= 6:\n",
    "        status = 'Congratulations, your class is good'\n",
    "else:\n",
    "        status = \"Dawn guys, you need to improve\"\n",
    "print(f\"Class media is {media} and {status}\")\n"
   ]
  },
  {
   "cell_type": "code",
   "execution_count": null,
   "metadata": {},
   "outputs": [],
   "source": [
    "\n",
    "\n",
    "     \n",
    "print(f\"Students -- Grade ---- Status\")     \n",
    "for index in range(0,40):\n",
    "        if grades[index] >= 5:\n",
    "                status = 'Congratulations, you passed!'\n",
    "        else:\n",
    "                status = \"Sad but true, you reproved\"\n",
    "        print(f\"{students[index]} ----- {grades[index]} ------ {status}\")\n",
    "print (f\"----------------\") \n",
    "soma = 0 \n",
    "for g in grades:\n",
    "    soma = soma + g\n",
    "media =soma/40\n",
    "if media >= 6:\n",
    "        status = 'Congratulations, your class is good'\n",
    "else:\n",
    "        status = \"Dawn guys, you need to improve\"\n",
    "print(f\"Class media is {media} and {status}\")\n"
   ]
  }
 ],
 "metadata": {
  "kernelspec": {
   "display_name": ".venv",
   "language": "python",
   "name": "python3"
  },
  "language_info": {
   "codemirror_mode": {
    "name": "ipython",
    "version": 3
   },
   "file_extension": ".py",
   "mimetype": "text/x-python",
   "name": "python",
   "nbconvert_exporter": "python",
   "pygments_lexer": "ipython3",
   "version": "3.12.3"
  }
 },
 "nbformat": 4,
 "nbformat_minor": 2
}
