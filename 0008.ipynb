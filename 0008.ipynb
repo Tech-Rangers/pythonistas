{
 "cells": [
  {
   "cell_type": "markdown",
   "metadata": {},
   "source": [
    "## Aula 0008\n",
    "\n",
    "- lendo arquivos de text e CSV"
   ]
  }
 ],
 "metadata": {
  "language_info": {
   "name": "python"
  }
 },
 "nbformat": 4,
 "nbformat_minor": 2
}
